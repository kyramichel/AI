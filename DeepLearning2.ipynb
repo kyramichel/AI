{
 "cells": [
  {
   "cell_type": "markdown",
   "metadata": {},
   "source": [
    "## Quantitative Modeling \n",
    "\n",
    "\n",
    "     Statistical Learning * Machine Learning  * Deep Learning\n",
    "\n",
    "\n",
    "Modeling real-world phenomena:\n",
    "\n",
    "## Traditional approach:\n",
    "\n",
    "Modeling the relationship between a response (output or dependent variable) y  and an input (explanatory or independent variable) x. That is, finding a function y = f(x) that will take the input x and produces an output y.\n",
    "\n",
    "\n",
    "- ### Mathematical formula:\n",
    "\n",
    "In standard mathematical modeling, the function $f$ is exact.\n",
    "\n",
    "\n",
    " - ### Statistical Learning:\n",
    "\n",
    "\n",
    "Linear Regression: if y is a continuous valued response.\n",
    "\n",
    " - A linear model is a line defined as follows:  $f(x) = mx + b$. \n",
    " \n",
    " \n",
    "Simple Regression is a good start off point for newer statistical learning approaches. \n",
    "\n",
    "- Logistic Regression: if y is a categorical valued response.\n",
    "\n",
    "The equation $p(y|x) = w_0 + w_1 x$ allows to compute the conditional probability of y given x.\n",
    "\n",
    "\n",
    "Linear regression can be understood as finding the best-fitting straight line through the sample points. An alternative notation used in ML is $y = w_0 + w_1 x$ where the weight $w_0$ represents the y-axis intercepts and $w_1$ is the coefficient of x (slope of the regression line).\n",
    "\n",
    "Randomness vs Uncertainty: Recall that each model always contains some amount of random irreducible error $\\epsilon$. So, given a prediction $\\hat{y}$, the actual $y = \\hat{y} + \\epsilon$. \n",
    "\n",
    "Finding the function y = f(x) using statistical learning is achieved by minimizing the offsets or residuals of the data from the regression line ie the errors of our prediction.\n",
    "\n",
    "### Pros:\n",
    "\n",
    "Traditional quantitative modeling approach provides interpretable results and works quite well on many real-world problems.\n",
    "\n",
    "### Cons:\n",
    "\n",
    "It assumes the relationship between x and y is static. \n",
    "\n",
    "In statistical learning approach:\n",
    "\n",
    "- linearity assumption means that the change in the response y due to a one-unit change in x remains constant, regardless of the value of x.\n",
    "\n",
    "- Normality assumption is a requirement for standard statistical and hypothesis tests\n",
    "\n",
    "\n",
    "These modeling assumptions are too restrictive and often violated in practice.\n"
   ]
  },
  {
   "cell_type": "markdown",
   "metadata": {},
   "source": [
    "## Modern approach: Machine Learning \n",
    "\n",
    "Building a linear regression model using a data set that meets the linearity and normality assumption "
   ]
  },
  {
   "cell_type": "code",
   "execution_count": 197,
   "metadata": {},
   "outputs": [],
   "source": [
    "#imports\n",
    "\n",
    "import pandas as pd\n",
    "import numpy as np\n",
    "import seaborn as sns\n",
    "import matplotlib.pyplot as plt\n",
    "\n",
    "import tensorflow as tf\n",
    "from tensorflow import keras\n",
    "\n",
    "from keras.layers.core import Dense\n",
    "\n",
    "%matplotlib inline\n",
    "plt.style.use(\"fivethirtyeight\")"
   ]
  },
  {
   "cell_type": "code",
   "execution_count": 163,
   "metadata": {},
   "outputs": [
    {
     "data": {
      "text/html": [
       "<div>\n",
       "<style scoped>\n",
       "    .dataframe tbody tr th:only-of-type {\n",
       "        vertical-align: middle;\n",
       "    }\n",
       "\n",
       "    .dataframe tbody tr th {\n",
       "        vertical-align: top;\n",
       "    }\n",
       "\n",
       "    .dataframe thead th {\n",
       "        text-align: right;\n",
       "    }\n",
       "</style>\n",
       "<table border=\"1\" class=\"dataframe\">\n",
       "  <thead>\n",
       "    <tr style=\"text-align: right;\">\n",
       "      <th></th>\n",
       "      <th>TV</th>\n",
       "      <th>sales</th>\n",
       "    </tr>\n",
       "  </thead>\n",
       "  <tbody>\n",
       "    <tr>\n",
       "      <th>195</th>\n",
       "      <td>38.2</td>\n",
       "      <td>7.6</td>\n",
       "    </tr>\n",
       "    <tr>\n",
       "      <th>196</th>\n",
       "      <td>94.2</td>\n",
       "      <td>9.7</td>\n",
       "    </tr>\n",
       "    <tr>\n",
       "      <th>197</th>\n",
       "      <td>177.0</td>\n",
       "      <td>12.8</td>\n",
       "    </tr>\n",
       "    <tr>\n",
       "      <th>198</th>\n",
       "      <td>283.6</td>\n",
       "      <td>25.5</td>\n",
       "    </tr>\n",
       "    <tr>\n",
       "      <th>199</th>\n",
       "      <td>232.1</td>\n",
       "      <td>13.4</td>\n",
       "    </tr>\n",
       "  </tbody>\n",
       "</table>\n",
       "</div>"
      ],
      "text/plain": [
       "        TV  sales\n",
       "195   38.2    7.6\n",
       "196   94.2    9.7\n",
       "197  177.0   12.8\n",
       "198  283.6   25.5\n",
       "199  232.1   13.4"
      ]
     },
     "execution_count": 163,
     "metadata": {},
     "output_type": "execute_result"
    }
   ],
   "source": [
    "# load the data\n",
    "\n",
    "df = pd.read_csv('C:/Users/uknow/Desktop/Regression.csv')\n",
    "df.tail()"
   ]
  },
  {
   "cell_type": "code",
   "execution_count": 164,
   "metadata": {},
   "outputs": [
    {
     "data": {
      "text/plain": [
       "(200, 2)"
      ]
     },
     "execution_count": 164,
     "metadata": {},
     "output_type": "execute_result"
    }
   ],
   "source": [
    "#Check the size of dataset\n",
    "df.shape"
   ]
  },
  {
   "cell_type": "markdown",
   "metadata": {},
   "source": [
    "This dataset contains information about money spent on TV ads and the generated sales. \n",
    "The goal here is to understand how TV advertisement spending impacts sales."
   ]
  },
  {
   "cell_type": "code",
   "execution_count": 165,
   "metadata": {},
   "outputs": [],
   "source": [
    "# We have input x = TV and output y = sales. \n",
    "\n",
    "x = df['TV'].values.reshape(-1,1)\n",
    "y = df['sales'].values.reshape(-1,1)\n"
   ]
  },
  {
   "cell_type": "markdown",
   "metadata": {},
   "source": [
    "We want to find the relationship y = f(x).\n",
    "\n",
    "Before creating the model let's\n",
    "\n",
    "\n",
    "## Visualize the relationship between x and y:"
   ]
  },
  {
   "cell_type": "code",
   "execution_count": 166,
   "metadata": {},
   "outputs": [
    {
     "data": {
      "image/png": "[encoded data removed]",
      "text/plain": [
       "<Figure size 540x360 with 1 Axes>"
      ]
     },
     "metadata": {},
     "output_type": "display_data"
    }
   ],
   "source": [
    "# seaborn scatterplot with regression line\n",
    "sns.lmplot(x='TV', y='sales', data=data, aspect=1.5, scatter_kws={'alpha':0.2});\n"
   ]
  },
  {
   "cell_type": "markdown",
   "metadata": {},
   "source": [
    "The graph shows a clear linear relationship between the amount spent on TV ads and sales.\n",
    "\n",
    "Now, let’s go and find the linear regression model associated with this data."
   ]
  },
  {
   "cell_type": "markdown",
   "metadata": {},
   "source": [
    "### Build a Linear Regression Model \n",
    "\n",
    "Finding the relationship y = f(x) using Machine Learning approach means fitting a linear model to the given data aka \"model training\":"
   ]
  },
  {
   "cell_type": "code",
   "execution_count": 167,
   "metadata": {},
   "outputs": [
    {
     "name": "stdout",
     "output_type": "stream",
     "text": [
      "The linear model y = f(x) is: y = 7.0326 + 0.047537x\n"
     ]
    }
   ],
   "source": [
    "from sklearn.linear_model import LinearRegression\n",
    "\n",
    "#Instantiate and fit a LinearRegression model on x and y using scikit-learn\n",
    "lm = LinearRegression()\n",
    "lm.fit(x, y)\n",
    "\n",
    "print(\"The linear model y = f(x) is: y = {:.5} + {:.5}x\".format(lm.intercept_[0], lm.coef_[0][0]))"
   ]
  },
  {
   "cell_type": "markdown",
   "metadata": {},
   "source": [
    "## Interpretation\n",
    "\n",
    "The problem we solved is to approximate the mathematical formula: $ y = 7.0326 + 0.047537* x$\n",
    "\n",
    "- #### Conventional programming approach:\n",
    "\n",
    "Built a Python function, an algorithm that directly performs this calculation.\n",
    "\n",
    "- #### We used a machine learning approach: \n",
    "\n",
    "Given the x and y values we train a model that figures out the formula through the training process."
   ]
  },
  {
   "cell_type": "markdown",
   "metadata": {},
   "source": [
    "### Evaluation Metrics "
   ]
  },
  {
   "cell_type": "markdown",
   "metadata": {},
   "source": [
    "Assessing the relevancy of the model using **$R^2$-value** and the **p-value** from model coefficients:"
   ]
  },
  {
   "cell_type": "code",
   "execution_count": 168,
   "metadata": {},
   "outputs": [
    {
     "name": "stdout",
     "output_type": "stream",
     "text": [
      "                            OLS Regression Results                            \n",
      "==============================================================================\n",
      "Dep. Variable:                      y   R-squared:                       0.612\n",
      "Model:                            OLS   Adj. R-squared:                  0.610\n",
      "Method:                 Least Squares   F-statistic:                     312.1\n",
      "Date:                Fri, 06 Dec 2019   Prob (F-statistic):           1.47e-42\n",
      "Time:                        01:27:58   Log-Likelihood:                -519.05\n",
      "No. Observations:                 200   AIC:                             1042.\n",
      "Df Residuals:                     198   BIC:                             1049.\n",
      "Df Model:                           1                                         \n",
      "Covariance Type:            nonrobust                                         \n",
      "==============================================================================\n",
      "                 coef    std err          t      P>|t|      [0.025      0.975]\n",
      "------------------------------------------------------------------------------\n",
      "const          7.0326      0.458     15.360      0.000       6.130       7.935\n",
      "x1             0.0475      0.003     17.668      0.000       0.042       0.053\n",
      "==============================================================================\n",
      "Omnibus:                        0.531   Durbin-Watson:                   1.935\n",
      "Prob(Omnibus):                  0.767   Jarque-Bera (JB):                0.669\n",
      "Skew:                          -0.089   Prob(JB):                        0.716\n",
      "Kurtosis:                       2.779   Cond. No.                         338.\n",
      "==============================================================================\n",
      "\n",
      "Warnings:\n",
      "[1] Standard Errors assume that the covariance matrix of the errors is correctly specified.\n"
     ]
    }
   ],
   "source": [
    "from sklearn.metrics import r2_score\n",
    "import statsmodels.api as sm\n",
    "\n",
    "X = sm.add_constant(x)\n",
    "ols = sm.OLS(y, X)\n",
    "est = ols.fit()\n",
    "print(est.summary())"
   ]
  },
  {
   "cell_type": "markdown",
   "metadata": {},
   "source": [
    "- The estimated model coefficients have a small p-value. This implies that there is a strong correlation between x and y.\n",
    "\n",
    "- R² = 0.612 means that 61% of the variability of sales can be explained by the amount spent on TV ads.\n"
   ]
  },
  {
   "cell_type": "markdown",
   "metadata": {},
   "source": [
    "\n",
    "In addition to the $R^2$ value, here are 2 metrics commonly for regression problems:\n",
    "\n",
    "**Mean absolute error (MAE)** is the mean of the absolute value of the errors:\n",
    "\n",
    "$$\\frac 1n\\sum_{i=1}^n|y_i-\\hat{y}_i|$$\n",
    "\n",
    "**Mean squared error (MSE)** is the mean of the squared errors:\n",
    "\n",
    "$$\\frac 1n\\sum_{i=1}^n(y_i-\\hat{y}_i)^2$$\n",
    "\n",
    "\n",
    "While plenty of insight can be found in reading coefficients, the most common uses of data science focus on prediction."
   ]
  },
  {
   "cell_type": "markdown",
   "metadata": {},
   "source": [
    "## Using our model $y = 7.0326 + 0.047537*x$  for predictions\n",
    "\n",
    "\n",
    "In scikit-learn we can make predictions from a fitted model using `.predict()`:\n"
   ]
  },
  {
   "cell_type": "code",
   "execution_count": 169,
   "metadata": {},
   "outputs": [
    {
     "data": {
      "text/plain": [
       "array([[17.97077451],\n",
       "       [ 9.14797405],\n",
       "       [ 7.85022376],\n",
       "       [14.23439457],\n",
       "       [15.62721814],\n",
       "       [ 7.44616232],\n",
       "       [ 9.76595037],\n",
       "       [12.74649773],\n",
       "       [ 7.44140866],\n",
       "       [16.53041431],\n",
       "       [10.17476548],\n",
       "       [17.23871025],\n",
       "       [ 8.16396559],\n",
       "       [11.66741599],\n",
       "       [16.73482186],\n",
       "       [16.32125309],\n",
       "       [10.25557777],\n",
       "       [20.40940417],\n",
       "       [10.32212907],\n",
       "       [14.03474068],\n",
       "       [17.41459582],\n",
       "       [18.31779199],\n",
       "       [ 7.6600772 ],\n",
       "       [17.88520856],\n",
       "       [ 9.99412625],\n",
       "       [19.52997632],\n",
       "       [13.82557947],\n",
       "       [18.44614092],\n",
       "       [18.85970969],\n",
       "       [10.38868036],\n",
       "       [20.95607553],\n",
       "       [12.39948025],\n",
       "       [11.653155  ],\n",
       "       [19.65832525],\n",
       "       [11.58185004],\n",
       "       [20.85149492],\n",
       "       [19.72012288],\n",
       "       [10.58358059],\n",
       "       [ 9.08142275],\n",
       "       [17.87094757],\n",
       "       [16.65876324],\n",
       "       [15.44657891],\n",
       "       [20.98935118],\n",
       "       [16.86792445],\n",
       "       [ 8.22576322],\n",
       "       [15.35625929],\n",
       "       [11.2966302 ],\n",
       "       [18.43663359],\n",
       "       [17.83291826],\n",
       "       [10.21279479],\n",
       "       [16.53041431],\n",
       "       [11.80527225],\n",
       "       [17.31952254],\n",
       "       [15.71278409],\n",
       "       [19.52046899],\n",
       "       [16.48763133],\n",
       "       [ 7.37961102],\n",
       "       [13.50708398],\n",
       "       [17.05331735],\n",
       "       [17.04856369],\n",
       "       [ 9.57580381],\n",
       "       [19.45391769],\n",
       "       [18.4081116 ],\n",
       "       [11.91460652],\n",
       "       [13.26464711],\n",
       "       [10.31262174],\n",
       "       [ 8.52999772],\n",
       "       [13.65444756],\n",
       "       [18.31779199],\n",
       "       [17.3385372 ],\n",
       "       [16.49713866],\n",
       "       [12.25211667],\n",
       "       [ 8.30657551],\n",
       "       [13.18383482],\n",
       "       [17.17691262],\n",
       "       [ 7.83596277],\n",
       "       [ 8.33985116],\n",
       "       [12.76075872],\n",
       "       [ 7.28929141],\n",
       "       [12.54684384],\n",
       "       [10.66439288],\n",
       "       [18.43187992],\n",
       "       [10.61210257],\n",
       "       [10.28409975],\n",
       "       [17.18166628],\n",
       "       [16.21667248],\n",
       "       [10.65963921],\n",
       "       [12.29489965],\n",
       "       [11.2300789 ],\n",
       "       [12.25211667],\n",
       "       [13.41676436],\n",
       "       [ 8.39214147],\n",
       "       [17.38132017],\n",
       "       [18.95953663],\n",
       "       [12.13802873],\n",
       "       [14.79532693],\n",
       "       [16.4258337 ],\n",
       "       [15.82211837],\n",
       "       [20.80395828],\n",
       "       [13.45954734],\n",
       "       [17.60474238],\n",
       "       [21.12245377],\n",
       "       [20.3523602 ],\n",
       "       [15.96472829],\n",
       "       [18.3558213 ],\n",
       "       [13.58789626],\n",
       "       [ 8.22100956],\n",
       "       [11.32990584],\n",
       "       [ 7.65532354],\n",
       "       [19.17345152],\n",
       "       [17.76636696],\n",
       "       [18.52219954],\n",
       "       [15.38478127],\n",
       "       [16.99627338],\n",
       "       [10.74995883],\n",
       "       [10.60259525],\n",
       "       [13.6496939 ],\n",
       "       [10.66439288],\n",
       "       [13.00794925],\n",
       "       [ 7.95480437],\n",
       "       [13.74952084],\n",
       "       [ 7.92628239],\n",
       "       [17.68080101],\n",
       "       [12.88435399],\n",
       "       [17.94225253],\n",
       "       [11.17778859],\n",
       "       [ 7.40337934],\n",
       "       [10.84503211],\n",
       "       [17.50491544],\n",
       "       [ 9.86577732],\n",
       "       [ 7.0658692 ],\n",
       "       [19.63931059],\n",
       "       [ 7.43190133],\n",
       "       [17.48114712],\n",
       "       [ 8.78669558],\n",
       "       [ 9.32861328],\n",
       "       [ 8.24953154],\n",
       "       [20.04337204],\n",
       "       [ 9.07666909],\n",
       "       [15.82211837],\n",
       "       [10.52178296],\n",
       "       [16.2404408 ],\n",
       "       [17.51442276],\n",
       "       [12.00492614],\n",
       "       [11.60561836],\n",
       "       [13.7019842 ],\n",
       "       [18.44614092],\n",
       "       [18.5935045 ],\n",
       "       [ 8.83898589],\n",
       "       [ 9.15748138],\n",
       "       [20.37612852],\n",
       "       [12.78452704],\n",
       "       [16.4258337 ],\n",
       "       [15.17562006],\n",
       "       [15.95997462],\n",
       "       [ 7.22749377],\n",
       "       [11.49628409],\n",
       "       [14.15358229],\n",
       "       [ 7.58877224],\n",
       "       [13.29316909],\n",
       "       [15.23266402],\n",
       "       [11.10648363],\n",
       "       [15.98849661],\n",
       "       [14.80483426],\n",
       "       [12.60388781],\n",
       "       [18.17993573],\n",
       "       [ 7.88349941],\n",
       "       [16.86317079],\n",
       "       [17.2719859 ],\n",
       "       [20.54726042],\n",
       "       [ 9.40942557],\n",
       "       [14.8523709 ],\n",
       "       [ 7.9643117 ],\n",
       "       [15.0377638 ],\n",
       "       [17.60474238],\n",
       "       [20.19548929],\n",
       "       [18.84069503],\n",
       "       [15.12332975],\n",
       "       [20.18598196],\n",
       "       [14.9046612 ],\n",
       "       [14.47683144],\n",
       "       [17.41934948],\n",
       "       [ 9.70415274],\n",
       "       [20.70413134],\n",
       "       [19.09739289],\n",
       "       [16.77760484],\n",
       "       [13.66395489],\n",
       "       [16.11684554],\n",
       "       [20.62807271],\n",
       "       [ 7.92152873],\n",
       "       [ 8.91029085],\n",
       "       [10.6216099 ],\n",
       "       [ 7.85022376],\n",
       "       [14.96170517],\n",
       "       [14.14882862],\n",
       "       [ 8.84849321],\n",
       "       [11.51054508],\n",
       "       [15.44657891],\n",
       "       [20.51398478],\n",
       "       [18.06584779]])"
      ]
     },
     "execution_count": 169,
     "metadata": {},
     "output_type": "execute_result"
    }
   ],
   "source": [
    "# we could make our predictions like this:\n",
    "preds = x.dot(lm.coef_) + lm.intercept_\n",
    "preds"
   ]
  },
  {
   "cell_type": "code",
   "execution_count": 170,
   "metadata": {},
   "outputs": [
    {
     "data": {
      "text/plain": [
       "(200, 1)"
      ]
     },
     "execution_count": 170,
     "metadata": {},
     "output_type": "execute_result"
    }
   ],
   "source": [
    "preds.shape"
   ]
  },
  {
   "cell_type": "code",
   "execution_count": 171,
   "metadata": {},
   "outputs": [
    {
     "data": {
      "text/plain": [
       "array([[7.03259355],\n",
       "       [7.50795995]])"
      ]
     },
     "execution_count": 171,
     "metadata": {},
     "output_type": "execute_result"
    }
   ],
   "source": [
    "x_new = [[0], [10]]\n",
    "lm.predict(x_new)"
   ]
  },
  {
   "cell_type": "markdown",
   "metadata": {},
   "source": [
    "## Deep Learning\n",
    "\n",
    "- Deep Learning is a subset of Machine Learning that uses neural networks.\n",
    "\n",
    "Traditional linear regression uses Ordinary Least Squares (OLS) - a method that allows to estimate the parameters of the regression line by minimizing the sum of squared errors (or residuals).\n",
    "\n",
    "In deep learning, we solve for the regression parameters using gradient descent that learns the weights via an GD or SGD optimization algorithm that minimizes a cost function that is the Sum of Squared Errors (SSE)."
   ]
  },
  {
   "cell_type": "markdown",
   "metadata": {},
   "source": [
    "- ### Neural Networks\n",
    "\n",
    "\n",
    "Training a linear regression model using Neural Networks does not require that the explanatory or target variables are normally distributed.\n",
    "\n",
    "\n",
    "Layers are the basic unit of neural networks. Basic types:\n",
    "\n",
    "  - The input layer = x and y data \n",
    "  - Add hidden layer(s) to detect non-linear patterns within our data\n",
    "  - The output layer = set of probabilities for our prediction (ie, sklearn's predict_proba method)\n",
    "\n",
    "A neural network with at least two hidden layers is 'Deep Learning'.\n",
    "\n",
    "A neural network without a hidden layer is just a linear model.\n",
    "\n",
    "A Logistic Regression is the simplest possible implementation of a neural network.\n"
   ]
  },
  {
   "cell_type": "markdown",
   "metadata": {},
   "source": [
    "#### Hidden layers\n",
    "\n",
    "When building a linear model, by adding a columns to lm.coef_ will add an additional column of output predictions. This second layer are not actual predictions - they represent a hidden layer, where each additional column is referred to as a neuron (unit).\n"
   ]
  },
  {
   "cell_type": "code",
   "execution_count": 174,
   "metadata": {},
   "outputs": [
    {
     "data": {
      "text/plain": [
       "(200, 1)"
      ]
     },
     "execution_count": 174,
     "metadata": {},
     "output_type": "execute_result"
    }
   ],
   "source": [
    "# Input layer is our data:\n",
    "\n",
    "input = x\n",
    "x.shape"
   ]
  },
  {
   "cell_type": "code",
   "execution_count": 80,
   "metadata": {},
   "outputs": [],
   "source": [
    "#Initialize another hidden layer with 10 units\n",
    "import numpy as np\n",
    "hidden_unit = np.random.normal(0, 0.1, 20).reshape(2, 10)"
   ]
  },
  {
   "cell_type": "code",
   "execution_count": 84,
   "metadata": {},
   "outputs": [
    {
     "data": {
      "text/plain": [
       "array([[19.28829053,  7.26397254,  0.        ,  5.25092886, 28.36172087,\n",
       "         0.        ,  4.79085589, 39.61282728,  0.        ,  0.        ],\n",
       "       [ 3.779558  ,  1.52408719,  0.        ,  1.02626777,  5.49781197,\n",
       "         0.09797176,  0.97619692,  7.59359969,  0.        ,  0.        ],\n",
       "       [ 1.49837051,  0.67980448,  0.        ,  0.40486019,  2.13474778,\n",
       "         0.14505221,  0.41509676,  2.88387495,  0.        ,  0.        ],\n",
       "       [12.720476  ,  4.83318057,  0.        ,  3.46182131, 18.67905256,\n",
       "         0.        ,  3.1753807 , 26.05296043,  0.        ,  0.        ],\n",
       "       [15.16878345,  5.73931549,  0.        ,  4.12875326, 22.28849507,\n",
       "         0.        ,  3.7775871 , 31.10771995,  0.        ,  0.        ],\n",
       "       [ 0.78811067,  0.41693258,  0.        ,  0.21138163,  1.08763989,\n",
       "         0.15971096,  0.24039524,  1.41747713,  0.        ,  0.        ],\n",
       "       [ 4.86583776,  1.92612657,  0.        ,  1.32217614,  7.09927111,\n",
       "         0.0755525 ,  1.24338747,  9.83632576,  0.        ,  0.        ],\n",
       "       [10.10504858,  3.86519344,  0.        ,  2.74936499, 14.82323171,\n",
       "         0.        ,  2.53206806, 20.65316612,  0.        ,  0.        ],\n",
       "       [ 0.77975467,  0.41383997,  0.        ,  0.20910542,  1.07532097,\n",
       "         0.15988341,  0.23833993,  1.40022539,  0.        ,  0.        ],\n",
       "       [16.75642309,  6.32691151,  0.        ,  4.56123473, 24.62908919,\n",
       "         0.        ,  4.16809637, 34.38555036,  0.        ,  0.        ]])"
      ]
     },
     "execution_count": 84,
     "metadata": {},
     "output_type": "execute_result"
    }
   ],
   "source": [
    "#Use the dot() method to multiply the input and hidden layer\n",
    "hidden_output = X.dot(hidden_unit)\n",
    "\n",
    "#Apply the Relu activation function $max(0,x)$ \n",
    "hidden_output = np.maximum(0, hidden_output)\n",
    "hidden_output[:10]"
   ]
  },
  {
   "cell_type": "code",
   "execution_count": 57,
   "metadata": {},
   "outputs": [
    {
     "data": {
      "text/plain": [
       "(200, 10)"
      ]
     },
     "execution_count": 57,
     "metadata": {},
     "output_type": "execute_result"
    }
   ],
   "source": [
    "hidden_output.shape"
   ]
  },
  {
   "cell_type": "code",
   "execution_count": 81,
   "metadata": {},
   "outputs": [],
   "source": [
    "#Initialize a second hidden layer with 5 neurons\n",
    "second_hidden_unit = np.random.normal(0, 0.1, 50).reshape(10, 5)\n",
    "second_output = hidden_output.dot(second_hidden_unit)"
   ]
  },
  {
   "cell_type": "code",
   "execution_count": 60,
   "metadata": {},
   "outputs": [],
   "source": [
    "second_output = np.maximum(0, second_output)"
   ]
  },
  {
   "cell_type": "code",
   "execution_count": 61,
   "metadata": {},
   "outputs": [
    {
     "data": {
      "text/plain": [
       "(200, 5)"
      ]
     },
     "execution_count": 61,
     "metadata": {},
     "output_type": "execute_result"
    }
   ],
   "source": [
    "second_output.shape"
   ]
  },
  {
   "cell_type": "markdown",
   "metadata": {},
   "source": [
    "The Output Layer - where we actually make predictions\n",
    "\n",
    "It is created essentially the same way as the hidden layer: randomly generate weights:"
   ]
  },
  {
   "cell_type": "code",
   "execution_count": 62,
   "metadata": {},
   "outputs": [],
   "source": [
    "output_layer = np.random.normal(0, 0.1, 5).reshape(5, 1)"
   ]
  },
  {
   "cell_type": "code",
   "execution_count": 63,
   "metadata": {},
   "outputs": [],
   "source": [
    "final_output = second_output.dot(output_layer)"
   ]
  },
  {
   "cell_type": "code",
   "execution_count": 64,
   "metadata": {},
   "outputs": [
    {
     "data": {
      "text/plain": [
       "(200, 1)"
      ]
     },
     "execution_count": 64,
     "metadata": {},
     "output_type": "execute_result"
    }
   ],
   "source": [
    "final_output.shape"
   ]
  },
  {
   "cell_type": "code",
   "execution_count": 78,
   "metadata": {},
   "outputs": [],
   "source": [
    "# Apply sigmoid = expit(x) activation function to the outer layer to make the final prediction\n",
    "from scipy.special import expit\n",
    "\n",
    "prob_preds = expit(final_output)"
   ]
  },
  {
   "cell_type": "markdown",
   "metadata": {},
   "source": [
    "This is essentially the same output as predict_proba in SKlearn\n",
    "\n",
    "We have as many columns as unique categories that you're trying to predict"
   ]
  },
  {
   "cell_type": "code",
   "execution_count": 79,
   "metadata": {},
   "outputs": [
    {
     "data": {
      "text/plain": [
       "array([[0.35003187],\n",
       "       [0.46908093]])"
      ]
     },
     "execution_count": 79,
     "metadata": {},
     "output_type": "execute_result"
    }
   ],
   "source": [
    "prob_preds[:2]"
   ]
  },
  {
   "cell_type": "code",
   "execution_count": null,
   "metadata": {},
   "outputs": [],
   "source": [
    "# To get final predictions use np.argmax()\n",
    "\n",
    "y_index = np.argmax(prob_preds, axis=1)"
   ]
  },
  {
   "cell_type": "markdown",
   "metadata": {},
   "source": [
    "#### Summarizing the process\n",
    "\n",
    "This is the basic machinery of how a neural network makes its predictions.\n",
    "\n",
    "We started at the input layer (our data) and we forward propagated the patterns of the training data through the network to generate an output.\n",
    "\n",
    "- We created 2 hidden layers and used ReLu (non-linear) activation functions that allows a NN to go beyond linear models and identify hidden patterns in raw data\n",
    "\n",
    "Dense layers (connectivity): the units in the hidden layer are fully connected to the input layer, and the output layer is fully connected to the hidden layer\n",
    "\n",
    "- The best choice of the number of layers in a neural network (same as additional hyperparameters)\n",
    "\n",
    "In training a NN to fit a model, we actually go through many rounds (typically 10-50) until it converges on the appropriate weights for each variable \n"
   ]
  },
  {
   "cell_type": "markdown",
   "metadata": {},
   "source": [
    "## Deep Learning with Google TensorFlow using Keras\n",
    "\n",
    "We will use Dense Neural Network (DNN) in which each input unit is connected to every single output unit (ie a linear combination)\n",
    "\n",
    "#### Create hidden layers:\n",
    "\n",
    "Instantiate `tf.keras.layers.Dense` with the following configuration:\n",
    "\n",
    "- `input_shape=[1]` — This specifies that the input to this layer is a single value -  the shape is a one-dimensional array \n",
    "\n",
    "- `units` — This specifies the number of neurons in the layer. \n",
    "\n",
    "\n",
    "#### Start with a simple NN with single layer and a single neuron:\n"
   ]
  },
  {
   "cell_type": "code",
   "execution_count": 175,
   "metadata": {},
   "outputs": [
    {
     "name": "stdout",
     "output_type": "stream",
     "text": [
      " Y=[230.1] = f([22.1]) \n",
      " Y=[44.5] = f([10.4]) \n",
      " Y=[17.2] = f([9.3]) \n",
      " Y=[151.5] = f([18.5]) \n",
      " Y=[180.8] = f([12.9]) \n",
      " Y=[8.7] = f([7.2]) \n",
      " Y=[57.5] = f([11.8]) \n",
      " Y=[120.2] = f([13.2]) \n",
      " Y=[8.6] = f([4.8]) \n",
      " Y=[199.8] = f([10.6]) \n"
     ]
    }
   ],
   "source": [
    "#Set up training data\n",
    "\n",
    "X = x[:10]  \n",
    "Y = y[:10] \n",
    "\n",
    "for i,c in enumerate(X):\n",
    "  print(\" Y={} = f({}) \".format(c, Y[i]))"
   ]
  },
  {
   "cell_type": "code",
   "execution_count": 176,
   "metadata": {},
   "outputs": [],
   "source": [
    "hidden_layer = tf.keras.layers.Dense(units=1, input_shape=[1])"
   ]
  },
  {
   "cell_type": "code",
   "execution_count": 177,
   "metadata": {},
   "outputs": [
    {
     "name": "stdout",
     "output_type": "stream",
     "text": [
      "Hidden layer weights: []\n"
     ]
    }
   ],
   "source": [
    "print(\"Hidden layer weights: {}\".format(hidden_layer.get_weights()))"
   ]
  },
  {
   "cell_type": "code",
   "execution_count": 178,
   "metadata": {},
   "outputs": [],
   "source": [
    "model = tf.keras.Sequential([hidden_layer])"
   ]
  },
  {
   "cell_type": "markdown",
   "metadata": {},
   "source": [
    "#### Compile\n",
    "\n",
    "- loss function: a way of measuring how far off are predictions from the outcome\n",
    "\n",
    "Most common used to optimize when training\n",
    "\n",
    "     - 'sparse_categorical_crossentropy': encoding your labels as 0, 1, 2, 3, 4, etc (most common)\n",
    "\n",
    "- Optimizers:for updating internal vars (weights) to reduce the los\n",
    "  - **sgd**: stochastic gradient descent (most common)\n",
    "  - **adam**: updated version of SGD, formulated in 2015 -it updates itself as training moves on\n",
    "\n",
    "**learning rate**: from 0.0001 to 0.3\n",
    "  \n",
    "  The speed with which we increase our Weight Size\n",
    "\n",
    " - Updating weights in a neural network is based off of the derivative of your cost function \n",
    " - The learning rate is the size of the 'step' that you take in the direction of the derivative\n",
    " - a larger learning rate will converge faster, but potentially 'skip' over more ideal versions of your weights\n",
    " "
   ]
  },
  {
   "cell_type": "code",
   "execution_count": 207,
   "metadata": {},
   "outputs": [],
   "source": [
    "model.compile(loss='mean_squared_error',\n",
    "              optimizer=tf.keras.optimizers.Adam(0.1))"
   ]
  },
  {
   "cell_type": "code",
   "execution_count": 180,
   "metadata": {},
   "outputs": [
    {
     "name": "stdout",
     "output_type": "stream",
     "text": [
      "Finished training the model\n"
     ]
    }
   ],
   "source": [
    "history = model.fit(X, Y, epochs=500, verbose=False)\n",
    "print(\"Finished training the model\")"
   ]
  },
  {
   "cell_type": "code",
   "execution_count": 182,
   "metadata": {},
   "outputs": [
    {
     "name": "stdout",
     "output_type": "stream",
     "text": [
      "[[6.972598]]\n"
     ]
    }
   ],
   "source": [
    "print(model.predict([38]))"
   ]
  },
  {
   "cell_type": "markdown",
   "metadata": {},
   "source": [
    "#### Adding more layers with more units (neurons)"
   ]
  },
  {
   "cell_type": "code",
   "execution_count": 183,
   "metadata": {},
   "outputs": [],
   "source": [
    "layer1 = tf.keras.layers.Dense(units=4, input_shape=[1])\n",
    "layer2 = tf.keras.layers.Dense(units=4)\n",
    "layer3 = tf.keras.layers.Dense(units=1)\n",
    "\n",
    "model2 = tf.keras.Sequential([layer1, layer2, layer3])\n",
    "model2.compile(loss='mean_squared_error', optimizer=tf.keras.optimizers.Adam(0.1))\n"
   ]
  },
  {
   "cell_type": "code",
   "execution_count": 208,
   "metadata": {},
   "outputs": [
    {
     "name": "stdout",
     "output_type": "stream",
     "text": [
      "[[9.113354]]\n"
     ]
    }
   ],
   "source": [
    "model2.fit(X, Y, epochs=500, verbose=False)\n",
    "\n",
    "print(model2.predict([38.2]))\n"
   ]
  },
  {
   "cell_type": "code",
   "execution_count": 185,
   "metadata": {},
   "outputs": [
    {
     "data": {
      "text/plain": [
       "[array([[ 0.3522675 ,  0.17687832, -0.04291113,  0.11901889]],\n",
       "       dtype=float32),\n",
       " array([ 3.5694208 , -0.94575804, -1.846515  , -0.31016064], dtype=float32),\n",
       " array([[ 0.17224592, -0.032463  , -0.08617451,  0.40852392],\n",
       "        [-0.81554896, -0.02207111, -0.07583651,  0.29462203],\n",
       "        [-0.97234935,  0.34417754,  0.2647347 , -0.42881447],\n",
       "        [ 0.00134773,  0.34137267, -0.4048512 , -0.47733587]],\n",
       "       dtype=float32),\n",
       " array([ 2.7249238, -2.2721736, -1.4863317,  1.7597369], dtype=float32),\n",
       " array([[ 0.37221566],\n",
       "        [-0.19722381],\n",
       "        [-0.2743473 ],\n",
       "        [ 0.22732185]], dtype=float32),\n",
       " array([3.0686321], dtype=float32)]"
      ]
     },
     "execution_count": 185,
     "metadata": {},
     "output_type": "execute_result"
    }
   ],
   "source": [
    "model2.get_weights()"
   ]
  },
  {
   "cell_type": "code",
   "execution_count": 186,
   "metadata": {},
   "outputs": [],
   "source": [
    "#Build a model with layers equivalent of what we created above\n",
    "\n",
    "hidden1 = keras.layers.Dense(10, activation=tf.nn.relu) #hidden layer with 10 units\n",
    "hidden2 = keras.layers.Dense(5, activation=tf.nn.relu) #hidden layer with 5 units\n",
    "output = keras.layers.Dense(10, activation=tf.nn.sigmoid)#Output layer"
   ]
  },
  {
   "cell_type": "code",
   "execution_count": 193,
   "metadata": {},
   "outputs": [],
   "source": [
    "#Build a Sequential model\n",
    "\n",
    "model3 = keras.Sequential([\n",
    "    keras.layers.Dense(10, activation=tf.nn.relu),\n",
    "    keras.layers.Dense(5, activation=tf.nn.relu),\n",
    "    keras.layers.Dense(10, activation=tf.nn.sigmoid) \n",
    "])\n",
    "\n",
    "\n",
    "model3.compile(loss='mean_squared_error', optimizer=tf.keras.optimizers.Adam(0.1), metrics=['accuracy'])\n",
    "\n"
   ]
  },
  {
   "cell_type": "code",
   "execution_count": 202,
   "metadata": {},
   "outputs": [
    {
     "name": "stdout",
     "output_type": "stream",
     "text": [
      "Finished training the model\n"
     ]
    }
   ],
   "source": [
    "model3.fit(X, Y, epochs=500, verbose=False)\n",
    "print(\"Finished training the model\")\n"
   ]
  },
  {
   "cell_type": "markdown",
   "metadata": {},
   "source": [
    "#### Interpretation \n",
    "\n",
    "- Complexity hides the simple form of our linear equation.\n",
    "\n",
    "The loss function (mean squared error) and the optimizer (Adam) used here are standard for simple models like this one, but many others are available. \n",
    "\n",
    "For complex problems however, to get better results, try varying the following parameters:\n",
    "\n",
    " - The number of neurons in your hidden layers\n",
    " - Switching the final activation function from sigmoid to softmax\n",
    " - Increasing or decreasing your learning rate\n",
    " - Changing the number of epochs\n",
    " \n",
    "Other type of layers: \n",
    "\n",
    " - **Convolutional**: CNN Best for processing images. Segments your data into smaller chunks when forming connections.\n",
    " \n",
    " - **Recurrent**:  RNN  Maintain information about previous input from last round of backpropagation.  Therefore have a notion of sequence.  Useful for items where the order of items matters.  Language processing especially."
   ]
  },
  {
   "cell_type": "markdown",
   "metadata": {},
   "source": [
    "#### Summarizing the process \n",
    "\n",
    "Tensorflow developed by Google has a high-level API called Keras, which makes it easy to construct neural networks.\n",
    "\n",
    "- The training process starts with a forward pass, where the input data is fed to the neural network. Then the model predicts an answer.\n",
    "\n",
    "- Once a value is predicted, the difference between that predicted value and the correct value is calculated. \n",
    "\n",
    "This difference is called the loss, and it's a measure of how well the model performed the mapping task. The value of the loss is calculated using a loss function, which we specified with the loss parameter when calling model.compile()\n",
    "\n",
    "- updated the weights (and bias)\n",
    "\n",
    "After the loss is calculated, the internal variables (weights and biases) of all the layers of the neural network are adjusted, so as to minimize this loss — that is, to make the output value closer to the correct value.\n",
    "\n",
    "- Backpropagation\n",
    "\n",
    " algorithm used to calculate the new value of each internal variable is specified by the optimizer parameter when calling model.compile(...). Example: SGD optimizer.\n",
    "\n",
    "\n"
   ]
  }
 ],
 "metadata": {
  "kernelspec": {
   "display_name": "Python 3",
   "language": "python",
   "name": "python3"
  },
  "language_info": {
   "codemirror_mode": {
    "name": "ipython",
    "version": 3
   },
   "file_extension": ".py",
   "mimetype": "text/x-python",
   "name": "python",
   "nbconvert_exporter": "python",
   "pygments_lexer": "ipython3",
   "version": "3.7.3"
  }
 },
 "nbformat": 4,
 "nbformat_minor": 2
}
