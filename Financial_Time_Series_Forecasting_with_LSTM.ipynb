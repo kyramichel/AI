{
  "cells": [
    {
      "cell_type": "markdown",
      "id": "e0e32c26",
      "metadata": {
        "id": "e0e32c26"
      },
      "source": [
        "\n",
        "# Dow Jones index Forecasting using Artificial Intelligence \n",
        "\n",
        "In my previous posts:\n",
        "\n",
        "1.See https://github.com/kyramichel/Math_Finance/blob/master/PCA%20app.ipynb\n",
        "\n",
        "I looked at the composition of the Dow Jones Industrial Average (^DJI - a stock market index that measures the stock performance of the top 30 largest companies listed on US stock exchanges -\n",
        "\n",
        "2.See https://github.com/kyramichel/Math_Finance/blob/master/Financial_Time_Series_Forecasting_with_auto_ARIMA.ipynb\n",
        "\n",
        "I built an Dow Jones index price Forecasting ARIMA model using auto ARIMA\n",
        "\n",
        "In this post, I will use AI Deep Learning to build a LSTM (Long Short-Term Memory) network model to predict Dow index.\n",
        "\n",
        "LSTM (Long Short-Term Memory) is a Recurrent Neural Network that is best suited for predicting long sequence of data.\n",
        "\n",
        "In my next post, I will post a number of LSTMs models for various sequence and time series prediction problems, including demand forecasting, text prediction (NLP), etc."
      ]
    },
    {
      "cell_type": "code",
      "execution_count": null,
      "id": "02f54116",
      "metadata": {
        "id": "02f54116"
      },
      "outputs": [],
      "source": [
        "#imports\n",
        "\n",
        "import math\n",
        "import pandas as pd\n",
        "import numpy as np\n",
        "\n",
        "from sklearn import metrics\n",
        "import seaborn as sns\n",
        "import matplotlib.pyplot as plt\n",
        "import pickle\n",
        "\n",
        "from pandas_datareader import data as pdr\n",
        "import pandas_datareader.data as web\n",
        "\n",
        "import tensorflow as tf\n",
        "from tensorflow import keras\n",
        "from tensorflow.keras.models import Sequential\n",
        "from tensorflow.keras.layers import Dense, LSTM, Dropout\n",
        "from tensorflow.keras.layers import LSTM\n",
        "from keras.layers import Dropout\n",
        "from tensorflow.keras.metrics import RootMeanSquaredError, MeanAbsoluteError\n",
        "\n",
        "\n",
        "import warnings\n",
        "warnings.filterwarnings('ignore')"
      ]
    },
    {
      "cell_type": "code",
      "execution_count": null,
      "id": "5fb9c587",
      "metadata": {
        "id": "5fb9c587",
        "outputId": "54b14d60-ead6-4001-8513-3606d82fed45"
      },
      "outputs": [
        {
          "data": {
            "text/plain": [
              "Date\n",
              "2020-01-02    28868.800781\n",
              "2020-01-03    28634.880859\n",
              "2020-01-06    28703.380859\n",
              "2020-01-07    28583.679688\n",
              "2020-01-08    28745.089844\n",
              "                  ...     \n",
              "2022-08-01    32798.398438\n",
              "2022-08-02    32396.169922\n",
              "2022-08-03    32812.500000\n",
              "2022-08-04    32726.820312\n",
              "2022-08-05    32803.468750\n",
              "Name: Adj Close, Length: 654, dtype: float64"
            ]
          },
          "execution_count": 14,
          "metadata": {},
          "output_type": "execute_result"
        }
      ],
      "source": [
        "#Dow Jones index since Jan 1,2020 (COVID19 started) \n",
        "\n",
        "dow = pdr.get_data_yahoo('^DJI', '2020-01-01')\n",
        "dow['Adj Close']"
      ]
    },
    {
      "cell_type": "code",
      "execution_count": null,
      "id": "f5451229",
      "metadata": {
        "id": "f5451229",
        "outputId": "bc73f78b-b714-4a1c-ec1e-7fa71164b8d8"
      },
      "outputs": [
        {
          "data": {
            "text/plain": [
              "<AxesSubplot:xlabel='Date'>"
            ]
          },
          "execution_count": 5,
          "metadata": {},
          "output_type": "execute_result"
        },
        {
          "data": {
            "image/png": "[encoded data removed]",
            "text/plain": [
              "<Figure size 432x288 with 1 Axes>"
            ]
          },
          "metadata": {
            "needs_background": "light"
          },
          "output_type": "display_data"
        }
      ],
      "source": [
        "dow['Adj Close'].plot()"
      ]
    },
    {
      "cell_type": "code",
      "execution_count": null,
      "id": "59b4eb18",
      "metadata": {
        "id": "59b4eb18",
        "outputId": "dd7df63d-df23-4892-e733-1d41139965c0"
      },
      "outputs": [
        {
          "name": "stdout",
          "output_type": "stream",
          "text": [
            "523\n",
            "131\n"
          ]
        }
      ],
      "source": [
        "#split the data into training and testing\n",
        "\n",
        "close_data = dow['Adj Close'].values\n",
        "close_data = close_data.reshape((-1,1))\n",
        "\n",
        "\n",
        "split = int(0.80*len(close_data))\n",
        "close_train = close_data[:split]\n",
        "close_test = close_data[split:]\n",
        "\n",
        "date_train = dow.index[:split]\n",
        "date_test = dow.index[split:]\n",
        "\n",
        "print(len(close_train))\n",
        "print(len(close_test))"
      ]
    },
    {
      "cell_type": "markdown",
      "id": "72c11863",
      "metadata": {
        "id": "72c11863"
      },
      "source": [
        "\n",
        "Note: To build an LSTM model, stationarity is not a pre-requisites.\n",
        "\n",
        "However, data preparation is needed for training a LSTM model.\n",
        "\n",
        "\n",
        "LSTM uses the past sequence of Dow index price values to predict Dow index price for the next day. \n",
        "\n",
        "Training a neural network of any ML model requires that data is in (X,y) format. Therefore, I need to convert the data into (X,y) format. For this, I will use the Keras module: TimeseriesGenerator"
      ]
    },
    {
      "cell_type": "code",
      "execution_count": null,
      "id": "da12c65b",
      "metadata": {
        "id": "da12c65b"
      },
      "outputs": [],
      "source": [
        "from keras.preprocessing.sequence import TimeseriesGenerator"
      ]
    },
    {
      "cell_type": "code",
      "execution_count": null,
      "id": "3a3038e5",
      "metadata": {
        "id": "3a3038e5"
      },
      "outputs": [],
      "source": [
        "look_back = 10 # look_back is the number of previous time steps to use to predict the value at the next time period\n",
        "\n",
        "train_generator = TimeseriesGenerator(close_train, close_train, length=look_back, batch_size=20)     \n",
        "test_generator = TimeseriesGenerator(close_test, close_test, length=look_back, batch_size=1)"
      ]
    },
    {
      "cell_type": "code",
      "execution_count": null,
      "id": "3e7cbd1b",
      "metadata": {
        "id": "3e7cbd1b",
        "outputId": "685d9c9e-fb52-4859-e71f-3112222f5842"
      },
      "outputs": [
        {
          "name": "stdout",
          "output_type": "stream",
          "text": [
            "Epoch 1/25\n",
            "26/26 [==============================] - 4s 17ms/step - loss: 210404720.0000\n",
            "Epoch 2/25\n",
            "26/26 [==============================] - 0s 16ms/step - loss: 2818871.5000\n",
            "Epoch 3/25\n",
            "26/26 [==============================] - 0s 17ms/step - loss: 927264.4375\n",
            "Epoch 4/25\n",
            "26/26 [==============================] - 1s 37ms/step - loss: 891496.0625\n",
            "Epoch 5/25\n",
            "26/26 [==============================] - 1s 20ms/step - loss: 888881.5625\n",
            "Epoch 6/25\n",
            "26/26 [==============================] - 1s 28ms/step - loss: 800385.9375\n",
            "Epoch 7/25\n",
            "26/26 [==============================] - 1s 25ms/step - loss: 900788.0000\n",
            "Epoch 8/25\n",
            "26/26 [==============================] - 0s 16ms/step - loss: 901316.1250\n",
            "Epoch 9/25\n",
            "26/26 [==============================] - 0s 17ms/step - loss: 895061.0000\n",
            "Epoch 10/25\n",
            "26/26 [==============================] - 0s 15ms/step - loss: 898280.1250\n",
            "Epoch 11/25\n",
            "26/26 [==============================] - 0s 17ms/step - loss: 877393.5625\n",
            "Epoch 12/25\n",
            "26/26 [==============================] - 1s 18ms/step - loss: 908653.7500\n",
            "Epoch 13/25\n",
            "26/26 [==============================] - 1s 20ms/step - loss: 915349.8125\n",
            "Epoch 14/25\n",
            "26/26 [==============================] - 1s 31ms/step - loss: 939581.4375\n",
            "Epoch 15/25\n",
            "26/26 [==============================] - 1s 29ms/step - loss: 960686.8125\n",
            "Epoch 16/25\n",
            "26/26 [==============================] - 1s 21ms/step - loss: 904198.6250\n",
            "Epoch 17/25\n",
            "26/26 [==============================] - 1s 22ms/step - loss: 898930.5000\n",
            "Epoch 18/25\n",
            "26/26 [==============================] - 1s 23ms/step - loss: 892290.5625\n",
            "Epoch 19/25\n",
            "26/26 [==============================] - 0s 16ms/step - loss: 973016.8750\n",
            "Epoch 20/25\n",
            "26/26 [==============================] - 0s 16ms/step - loss: 939408.1875\n",
            "Epoch 21/25\n",
            "26/26 [==============================] - 0s 16ms/step - loss: 902353.6250\n",
            "Epoch 22/25\n",
            "26/26 [==============================] - 0s 16ms/step - loss: 917339.9375\n",
            "Epoch 23/25\n",
            "26/26 [==============================] - 1s 24ms/step - loss: 919410.3750\n",
            "Epoch 24/25\n",
            "26/26 [==============================] - 1s 31ms/step - loss: 852764.5000\n",
            "Epoch 25/25\n",
            "26/26 [==============================] - 1s 18ms/step - loss: 956435.3125\n"
          ]
        },
        {
          "data": {
            "text/plain": [
              "<keras.callbacks.History at 0x1eb4e8e7310>"
            ]
          },
          "execution_count": 56,
          "metadata": {},
          "output_type": "execute_result"
        }
      ],
      "source": [
        "model = Sequential()\n",
        "model.add(LSTM(40,activation='relu', input_shape=(look_back,1)))\n",
        "model.add(Dense(1))\n",
        "model.compile(optimizer='adam', loss='mse')\n",
        "\n",
        "num_epochs = 25\n",
        "model.fit_generator(train_generator, epochs=num_epochs, verbose=1)"
      ]
    },
    {
      "cell_type": "markdown",
      "id": "3177ad19",
      "metadata": {
        "id": "3177ad19"
      },
      "source": [
        "**Prediction**\n",
        "\n",
        "After training the LTSM model, check the model performance on test data, comparing the actuals vs predicted"
      ]
    },
    {
      "cell_type": "code",
      "execution_count": 1,
      "id": "db5fd3cd",
      "metadata": {
        "id": "db5fd3cd"
      },
      "outputs": [],
      "source": [
        "import plotly.graph_objs as go"
      ]
    },
    {
      "cell_type": "code",
      "execution_count": null,
      "id": "c533e3c5",
      "metadata": {
        "id": "c533e3c5",
        "outputId": "293e8132-5301-4607-d5a5-6fb0b160ef52"
      },
      "outputs": [
        {
          "data": {
            "application/vnd.plotly.v1+json": {
              "config": {
                "plotlyServerURL": "https://plot.ly"
              },
              "data": [
                {
                  "mode": "lines",
                  "name": "Data",
                  "type": "scatter",
                  "x": [
                    "2020-01-02T00:00:00",
                    "2020-01-03T00:00:00",
                    "2020-01-06T00:00:00",
                    "2020-01-07T00:00:00",
                    "2020-01-08T00:00:00",
                    "2020-01-09T00:00:00",
                    "2020-01-10T00:00:00",
                    "2020-01-13T00:00:00",
                    "2020-01-14T00:00:00",
                    "2020-01-15T00:00:00",
                    "2020-01-16T00:00:00",
                    "2020-01-17T00:00:00",
                    "2020-01-21T00:00:00",
                    "2020-01-22T00:00:00",
                    "2020-01-23T00:00:00",
                    "2020-01-24T00:00:00",
                    "2020-01-27T00:00:00",
                    "2020-01-28T00:00:00",
                    "2020-01-29T00:00:00",
                    "2020-01-30T00:00:00",
                    "2020-01-31T00:00:00",
                    "2020-02-03T00:00:00",
                    "2020-02-04T00:00:00",
                    "2020-02-05T00:00:00",
                    "2020-02-06T00:00:00",
                    "2020-02-07T00:00:00",
                    "2020-02-10T00:00:00",
                    "2020-02-11T00:00:00",
                    "2020-02-12T00:00:00",
                    "2020-02-13T00:00:00",
                    "2020-02-14T00:00:00",
                    "2020-02-18T00:00:00",
                    "2020-02-19T00:00:00",
                    "2020-02-20T00:00:00",
                    "2020-02-21T00:00:00",
                    "2020-02-24T00:00:00",
                    "2020-02-25T00:00:00",
                    "2020-02-26T00:00:00",
                    "2020-02-27T00:00:00",
                    "2020-02-28T00:00:00",
                    "2020-03-02T00:00:00",
                    "2020-03-03T00:00:00",
                    "2020-03-04T00:00:00",
                    "2020-03-05T00:00:00",
                    "2020-03-06T00:00:00",
                    "2020-03-09T00:00:00",
                    "2020-03-10T00:00:00",
                    "2020-03-11T00:00:00",
                    "2020-03-12T00:00:00",
                    "2020-03-13T00:00:00",
                    "2020-03-16T00:00:00",
                    "2020-03-17T00:00:00",
                    "2020-03-18T00:00:00",
                    "2020-03-19T00:00:00",
                    "2020-03-20T00:00:00",
                    "2020-03-23T00:00:00",
                    "2020-03-24T00:00:00",
                    "2020-03-25T00:00:00",
                    "2020-03-26T00:00:00",
                    "2020-03-27T00:00:00",
                    "2020-03-30T00:00:00",
                    "2020-03-31T00:00:00",
                    "2020-04-01T00:00:00",
                    "2020-04-02T00:00:00",
                    "2020-04-03T00:00:00",
                    "2020-04-06T00:00:00",
                    "2020-04-07T00:00:00",
                    "2020-04-08T00:00:00",
                    "2020-04-09T00:00:00",
                    "2020-04-13T00:00:00",
                    "2020-04-14T00:00:00",
                    "2020-04-15T00:00:00",
                    "2020-04-16T00:00:00",
                    "2020-04-17T00:00:00",
                    "2020-04-20T00:00:00",
                    "2020-04-21T00:00:00",
                    "2020-04-22T00:00:00",
                    "2020-04-23T00:00:00",
                    "2020-04-24T00:00:00",
                    "2020-04-27T00:00:00",
                    "2020-04-28T00:00:00",
                    "2020-04-29T00:00:00",
                    "2020-04-30T00:00:00",
                    "2020-05-01T00:00:00",
                    "2020-05-04T00:00:00",
                    "2020-05-05T00:00:00",
                    "2020-05-06T00:00:00",
                    "2020-05-07T00:00:00",
                    "2020-05-08T00:00:00",
                    "2020-05-11T00:00:00",
                    "2020-05-12T00:00:00",
                    "2020-05-13T00:00:00",
                    "2020-05-14T00:00:00",
                    "2020-05-15T00:00:00",
                    "2020-05-18T00:00:00",
                    "2020-05-19T00:00:00",
                    "2020-05-20T00:00:00",
                    "2020-05-21T00:00:00",
                    "2020-05-22T00:00:00",
                    "2020-05-26T00:00:00",
                    "2020-05-27T00:00:00",
                    "2020-05-28T00:00:00",
                    "2020-05-29T00:00:00",
                    "2020-06-01T00:00:00",
                    "2020-06-02T00:00:00",
                    "2020-06-03T00:00:00",
                    "2020-06-04T00:00:00",
                    "2020-06-05T00:00:00",
                    "2020-06-08T00:00:00",
                    "2020-06-09T00:00:00",
                    "2020-06-10T00:00:00",
                    "2020-06-11T00:00:00",
                    "2020-06-12T00:00:00",
                    "2020-06-15T00:00:00",
                    "2020-06-16T00:00:00",
                    "2020-06-17T00:00:00",
                    "2020-06-18T00:00:00",
                    "2020-06-19T00:00:00",
                    "2020-06-22T00:00:00",
                    "2020-06-23T00:00:00",
                    "2020-06-24T00:00:00",
                    "2020-06-25T00:00:00",
                    "2020-06-26T00:00:00",
                    "2020-06-29T00:00:00",
                    "2020-06-30T00:00:00",
                    "2020-07-01T00:00:00",
                    "2020-07-02T00:00:00",
                    "2020-07-06T00:00:00",
                    "2020-07-07T00:00:00",
                    "2020-07-08T00:00:00",
                    "2020-07-09T00:00:00",
                    "2020-07-10T00:00:00",
                    "2020-07-13T00:00:00",
                    "2020-07-14T00:00:00",
                    "2020-07-15T00:00:00",
                    "2020-07-16T00:00:00",
                    "2020-07-17T00:00:00",
                    "2020-07-20T00:00:00",
                    "2020-07-21T00:00:00",
                    "2020-07-22T00:00:00",
                    "2020-07-23T00:00:00",
                    "2020-07-24T00:00:00",
                    "2020-07-27T00:00:00",
                    "2020-07-28T00:00:00",
                    "2020-07-29T00:00:00",
                    "2020-07-30T00:00:00",
                    "2020-07-31T00:00:00",
                    "2020-08-03T00:00:00",
                    "2020-08-04T00:00:00",
                    "2020-08-05T00:00:00",
                    "2020-08-06T00:00:00",
                    "2020-08-07T00:00:00",
                    "2020-08-10T00:00:00",
                    "2020-08-11T00:00:00",
                    "2020-08-12T00:00:00",
                    "2020-08-13T00:00:00",
                    "2020-08-14T00:00:00",
                    "2020-08-17T00:00:00",
                    "2020-08-18T00:00:00",
                    "2020-08-19T00:00:00",
                    "2020-08-20T00:00:00",
                    "2020-08-21T00:00:00",
                    "2020-08-24T00:00:00",
                    "2020-08-25T00:00:00",
                    "2020-08-26T00:00:00",
                    "2020-08-27T00:00:00",
                    "2020-08-28T00:00:00",
                    "2020-08-31T00:00:00",
                    "2020-09-01T00:00:00",
                    "2020-09-02T00:00:00",
                    "2020-09-03T00:00:00",
                    "2020-09-04T00:00:00",
                    "2020-09-08T00:00:00",
                    "2020-09-09T00:00:00",
                    "2020-09-10T00:00:00",
                    "2020-09-11T00:00:00",
                    "2020-09-14T00:00:00",
                    "2020-09-15T00:00:00",
                    "2020-09-16T00:00:00",
                    "2020-09-17T00:00:00",
                    "2020-09-18T00:00:00",
                    "2020-09-21T00:00:00",
                    "2020-09-22T00:00:00",
                    "2020-09-23T00:00:00",
                    "2020-09-24T00:00:00",
                    "2020-09-25T00:00:00",
                    "2020-09-28T00:00:00",
                    "2020-09-29T00:00:00",
                    "2020-09-30T00:00:00",
                    "2020-10-01T00:00:00",
                    "2020-10-02T00:00:00",
                    "2020-10-05T00:00:00",
                    "2020-10-06T00:00:00",
                    "2020-10-07T00:00:00",
                    "2020-10-08T00:00:00",
                    "2020-10-09T00:00:00",
                    "2020-10-12T00:00:00",
                    "2020-10-13T00:00:00",
                    "2020-10-14T00:00:00",
                    "2020-10-15T00:00:00",
                    "2020-10-16T00:00:00",
                    "2020-10-19T00:00:00",
                    "2020-10-20T00:00:00",
                    "2020-10-21T00:00:00",
                    "2020-10-22T00:00:00",
                    "2020-10-23T00:00:00",
                    "2020-10-26T00:00:00",
                    "2020-10-27T00:00:00",
                    "2020-10-28T00:00:00",
                    "2020-10-29T00:00:00",
                    "2020-10-30T00:00:00",
                    "2020-11-02T00:00:00",
                    "2020-11-03T00:00:00",
                    "2020-11-04T00:00:00",
                    "2020-11-05T00:00:00",
                    "2020-11-06T00:00:00",
                    "2020-11-09T00:00:00",
                    "2020-11-10T00:00:00",
                    "2020-11-11T00:00:00",
                    "2020-11-12T00:00:00",
                    "2020-11-13T00:00:00",
                    "2020-11-16T00:00:00",
                    "2020-11-17T00:00:00",
                    "2020-11-18T00:00:00",
                    "2020-11-19T00:00:00",
                    "2020-11-20T00:00:00",
                    "2020-11-23T00:00:00",
                    "2020-11-24T00:00:00",
                    "2020-11-25T00:00:00",
                    "2020-11-27T00:00:00",
                    "2020-11-30T00:00:00",
                    "2020-12-01T00:00:00",
                    "2020-12-02T00:00:00",
                    "2020-12-03T00:00:00",
                    "2020-12-04T00:00:00",
                    "2020-12-07T00:00:00",
                    "2020-12-08T00:00:00",
                    "2020-12-09T00:00:00",
                    "2020-12-10T00:00:00",
                    "2020-12-11T00:00:00",
                    "2020-12-14T00:00:00",
                    "2020-12-15T00:00:00",
                    "2020-12-16T00:00:00",
                    "2020-12-17T00:00:00",
                    "2020-12-18T00:00:00",
                    "2020-12-21T00:00:00",
                    "2020-12-22T00:00:00",
                    "2020-12-23T00:00:00",
                    "2020-12-24T00:00:00",
                    "2020-12-28T00:00:00",
                    "2020-12-29T00:00:00",
                    "2020-12-30T00:00:00",
                    "2020-12-31T00:00:00",
                    "2021-01-04T00:00:00",
                    "2021-01-05T00:00:00",
                    "2021-01-06T00:00:00",
                    "2021-01-07T00:00:00",
                    "2021-01-08T00:00:00",
                    "2021-01-11T00:00:00",
                    "2021-01-12T00:00:00",
                    "2021-01-13T00:00:00",
                    "2021-01-14T00:00:00",
                    "2021-01-15T00:00:00",
                    "2021-01-19T00:00:00",
                    "2021-01-20T00:00:00",
                    "2021-01-21T00:00:00",
                    "2021-01-22T00:00:00",
                    "2021-01-25T00:00:00",
                    "2021-01-26T00:00:00",
                    "2021-01-27T00:00:00",
                    "2021-01-28T00:00:00",
                    "2021-01-29T00:00:00",
                    "2021-02-01T00:00:00",
                    "2021-02-02T00:00:00",
                    "2021-02-03T00:00:00",
                    "2021-02-04T00:00:00",
                    "2021-02-05T00:00:00",
                    "2021-02-08T00:00:00",
                    "2021-02-09T00:00:00",
                    "2021-02-10T00:00:00",
                    "2021-02-11T00:00:00",
                    "2021-02-12T00:00:00",
                    "2021-02-16T00:00:00",
                    "2021-02-17T00:00:00",
                    "2021-02-18T00:00:00",
                    "2021-02-19T00:00:00",
                    "2021-02-22T00:00:00",
                    "2021-02-23T00:00:00",
                    "2021-02-24T00:00:00",
                    "2021-02-25T00:00:00",
                    "2021-02-26T00:00:00",
                    "2021-03-01T00:00:00",
                    "2021-03-02T00:00:00",
                    "2021-03-03T00:00:00",
                    "2021-03-04T00:00:00",
                    "2021-03-05T00:00:00",
                    "2021-03-08T00:00:00",
                    "2021-03-09T00:00:00",
                    "2021-03-10T00:00:00",
                    "2021-03-11T00:00:00",
                    "2021-03-12T00:00:00",
                    "2021-03-15T00:00:00",
                    "2021-03-16T00:00:00",
                    "2021-03-17T00:00:00",
                    "2021-03-18T00:00:00",
                    "2021-03-19T00:00:00",
                    "2021-03-22T00:00:00",
                    "2021-03-23T00:00:00",
                    "2021-03-24T00:00:00",
                    "2021-03-25T00:00:00",
                    "2021-03-26T00:00:00",
                    "2021-03-29T00:00:00",
                    "2021-03-30T00:00:00",
                    "2021-03-31T00:00:00",
                    "2021-04-01T00:00:00",
                    "2021-04-05T00:00:00",
                    "2021-04-06T00:00:00",
                    "2021-04-07T00:00:00",
                    "2021-04-08T00:00:00",
                    "2021-04-09T00:00:00",
                    "2021-04-12T00:00:00",
                    "2021-04-13T00:00:00",
                    "2021-04-14T00:00:00",
                    "2021-04-15T00:00:00",
                    "2021-04-16T00:00:00",
                    "2021-04-19T00:00:00",
                    "2021-04-20T00:00:00",
                    "2021-04-21T00:00:00",
                    "2021-04-22T00:00:00",
                    "2021-04-23T00:00:00",
                    "2021-04-26T00:00:00",
                    "2021-04-27T00:00:00",
                    "2021-04-28T00:00:00",
                    "2021-04-29T00:00:00",
                    "2021-04-30T00:00:00",
                    "2021-05-03T00:00:00",
                    "2021-05-04T00:00:00",
                    "2021-05-05T00:00:00",
                    "2021-05-06T00:00:00",
                    "2021-05-07T00:00:00",
                    "2021-05-10T00:00:00",
                    "2021-05-11T00:00:00",
                    "2021-05-12T00:00:00",
                    "2021-05-13T00:00:00",
                    "2021-05-14T00:00:00",
                    "2021-05-17T00:00:00",
                    "2021-05-18T00:00:00",
                    "2021-05-19T00:00:00",
                    "2021-05-20T00:00:00",
                    "2021-05-21T00:00:00",
                    "2021-05-24T00:00:00",
                    "2021-05-25T00:00:00",
                    "2021-05-26T00:00:00",
                    "2021-05-27T00:00:00",
                    "2021-05-28T00:00:00",
                    "2021-06-01T00:00:00",
                    "2021-06-02T00:00:00",
                    "2021-06-03T00:00:00",
                    "2021-06-04T00:00:00",
                    "2021-06-07T00:00:00",
                    "2021-06-08T00:00:00",
                    "2021-06-09T00:00:00",
                    "2021-06-10T00:00:00",
                    "2021-06-11T00:00:00",
                    "2021-06-14T00:00:00",
                    "2021-06-15T00:00:00",
                    "2021-06-16T00:00:00",
                    "2021-06-17T00:00:00",
                    "2021-06-18T00:00:00",
                    "2021-06-21T00:00:00",
                    "2021-06-22T00:00:00",
                    "2021-06-23T00:00:00",
                    "2021-06-24T00:00:00",
                    "2021-06-25T00:00:00",
                    "2021-06-28T00:00:00",
                    "2021-06-29T00:00:00",
                    "2021-06-30T00:00:00",
                    "2021-07-01T00:00:00",
                    "2021-07-02T00:00:00",
                    "2021-07-06T00:00:00",
                    "2021-07-07T00:00:00",
                    "2021-07-08T00:00:00",
                    "2021-07-09T00:00:00",
                    "2021-07-12T00:00:00",
                    "2021-07-13T00:00:00",
                    "2021-07-14T00:00:00",
                    "2021-07-15T00:00:00",
                    "2021-07-16T00:00:00",
                    "2021-07-19T00:00:00",
                    "2021-07-20T00:00:00",
                    "2021-07-21T00:00:00",
                    "2021-07-22T00:00:00",
                    "2021-07-23T00:00:00",
                    "2021-07-26T00:00:00",
                    "2021-07-27T00:00:00",
                    "2021-07-28T00:00:00",
                    "2021-07-29T00:00:00",
                    "2021-07-30T00:00:00",
                    "2021-08-02T00:00:00",
                    "2021-08-03T00:00:00",
                    "2021-08-04T00:00:00",
                    "2021-08-05T00:00:00",
                    "2021-08-06T00:00:00",
                    "2021-08-09T00:00:00",
                    "2021-08-10T00:00:00",
                    "2021-08-11T00:00:00",
                    "2021-08-12T00:00:00",
                    "2021-08-13T00:00:00",
                    "2021-08-16T00:00:00",
                    "2021-08-17T00:00:00",
                    "2021-08-18T00:00:00",
                    "2021-08-19T00:00:00",
                    "2021-08-20T00:00:00",
                    "2021-08-23T00:00:00",
                    "2021-08-24T00:00:00",
                    "2021-08-25T00:00:00",
                    "2021-08-26T00:00:00",
                    "2021-08-27T00:00:00",
                    "2021-08-30T00:00:00",
                    "2021-08-31T00:00:00",
                    "2021-09-01T00:00:00",
                    "2021-09-02T00:00:00",
                    "2021-09-03T00:00:00",
                    "2021-09-07T00:00:00",
                    "2021-09-08T00:00:00",
                    "2021-09-09T00:00:00",
                    "2021-09-10T00:00:00",
                    "2021-09-13T00:00:00",
                    "2021-09-14T00:00:00",
                    "2021-09-15T00:00:00",
                    "2021-09-16T00:00:00",
                    "2021-09-17T00:00:00",
                    "2021-09-20T00:00:00",
                    "2021-09-21T00:00:00",
                    "2021-09-22T00:00:00",
                    "2021-09-23T00:00:00",
                    "2021-09-24T00:00:00",
                    "2021-09-27T00:00:00",
                    "2021-09-28T00:00:00",
                    "2021-09-29T00:00:00",
                    "2021-09-30T00:00:00",
                    "2021-10-01T00:00:00",
                    "2021-10-04T00:00:00",
                    "2021-10-05T00:00:00",
                    "2021-10-06T00:00:00",
                    "2021-10-07T00:00:00",
                    "2021-10-08T00:00:00",
                    "2021-10-11T00:00:00",
                    "2021-10-12T00:00:00",
                    "2021-10-13T00:00:00",
                    "2021-10-14T00:00:00",
                    "2021-10-15T00:00:00",
                    "2021-10-18T00:00:00",
                    "2021-10-19T00:00:00",
                    "2021-10-20T00:00:00",
                    "2021-10-21T00:00:00",
                    "2021-10-22T00:00:00",
                    "2021-10-25T00:00:00",
                    "2021-10-26T00:00:00",
                    "2021-10-27T00:00:00",
                    "2021-10-28T00:00:00",
                    "2021-10-29T00:00:00",
                    "2021-11-01T00:00:00",
                    "2021-11-02T00:00:00",
                    "2021-11-03T00:00:00",
                    "2021-11-04T00:00:00",
                    "2021-11-05T00:00:00",
                    "2021-11-08T00:00:00",
                    "2021-11-09T00:00:00",
                    "2021-11-10T00:00:00",
                    "2021-11-11T00:00:00",
                    "2021-11-12T00:00:00",
                    "2021-11-15T00:00:00",
                    "2021-11-16T00:00:00",
                    "2021-11-17T00:00:00",
                    "2021-11-18T00:00:00",
                    "2021-11-19T00:00:00",
                    "2021-11-22T00:00:00",
                    "2021-11-23T00:00:00",
                    "2021-11-24T00:00:00",
                    "2021-11-26T00:00:00",
                    "2021-11-29T00:00:00",
                    "2021-11-30T00:00:00",
                    "2021-12-01T00:00:00",
                    "2021-12-02T00:00:00",
                    "2021-12-03T00:00:00",
                    "2021-12-06T00:00:00",
                    "2021-12-07T00:00:00",
                    "2021-12-08T00:00:00",
                    "2021-12-09T00:00:00",
                    "2021-12-10T00:00:00",
                    "2021-12-13T00:00:00",
                    "2021-12-14T00:00:00",
                    "2021-12-15T00:00:00",
                    "2021-12-16T00:00:00",
                    "2021-12-17T00:00:00",
                    "2021-12-20T00:00:00",
                    "2021-12-21T00:00:00",
                    "2021-12-22T00:00:00",
                    "2021-12-23T00:00:00",
                    "2021-12-27T00:00:00",
                    "2021-12-28T00:00:00",
                    "2021-12-29T00:00:00",
                    "2021-12-30T00:00:00",
                    "2021-12-31T00:00:00",
                    "2022-01-03T00:00:00",
                    "2022-01-04T00:00:00",
                    "2022-01-05T00:00:00",
                    "2022-01-06T00:00:00",
                    "2022-01-07T00:00:00",
                    "2022-01-10T00:00:00",
                    "2022-01-11T00:00:00",
                    "2022-01-12T00:00:00",
                    "2022-01-13T00:00:00",
                    "2022-01-14T00:00:00",
                    "2022-01-18T00:00:00",
                    "2022-01-19T00:00:00",
                    "2022-01-20T00:00:00",
                    "2022-01-21T00:00:00",
                    "2022-01-24T00:00:00",
                    "2022-01-25T00:00:00",
                    "2022-01-26T00:00:00",
                    "2022-01-27T00:00:00"
                  ],
                  "y": [
                    28868.80078125,
                    28634.880859375,
                    28703.380859375,
                    28583.6796875,
                    28745.08984375,
                    28956.900390625,
                    28823.76953125,
                    28907.05078125,
                    28939.669921875,
                    29030.220703125,
                    29297.640625,
                    29348.099609375,
                    29196.0390625,
                    29186.26953125,
                    29160.08984375,
                    28989.73046875,
                    28535.80078125,
                    28722.849609375,
                    28734.44921875,
                    28859.439453125,
                    28256.029296875,
                    28399.810546875,
                    28807.630859375,
                    29290.849609375,
                    29379.76953125,
                    29102.509765625,
                    29276.8203125,
                    29276.33984375,
                    29551.419921875,
                    29423.310546875,
                    29398.080078125,
                    29232.189453125,
                    29348.029296875,
                    29219.98046875,
                    28992.41015625,
                    27960.80078125,
                    27081.359375,
                    26957.58984375,
                    25766.640625,
                    25409.359375,
                    26703.3203125,
                    25917.41015625,
                    27090.859375,
                    26121.279296875,
                    25864.779296875,
                    23851.01953125,
                    25018.16015625,
                    23553.220703125,
                    21200.619140625,
                    23185.619140625,
                    20188.51953125,
                    21237.380859375,
                    19898.919921875,
                    20087.189453125,
                    19173.98046875,
                    18591.9296875,
                    20704.91015625,
                    21200.55078125,
                    22552.169921875,
                    21636.779296875,
                    22327.48046875,
                    21917.16015625,
                    20943.509765625,
                    21413.439453125,
                    21052.529296875,
                    22679.990234375,
                    22653.859375,
                    23433.5703125,
                    23719.369140625,
                    23390.76953125,
                    23949.759765625,
                    23504.349609375,
                    23537.6796875,
                    24242.490234375,
                    23650.439453125,
                    23018.880859375,
                    23475.8203125,
                    23515.259765625,
                    23775.26953125,
                    24133.779296875,
                    24101.55078125,
                    24633.859375,
                    24345.720703125,
                    23723.689453125,
                    23749.759765625,
                    23883.08984375,
                    23664.640625,
                    23875.890625,
                    24331.3203125,
                    24221.990234375,
                    23764.779296875,
                    23247.970703125,
                    23625.33984375,
                    23685.419921875,
                    24597.369140625,
                    24206.859375,
                    24575.900390625,
                    24474.119140625,
                    24465.16015625,
                    24995.109375,
                    25548.26953125,
                    25400.640625,
                    25383.109375,
                    25475.01953125,
                    25742.650390625,
                    26269.890625,
                    26281.8203125,
                    27110.98046875,
                    27572.439453125,
                    27272.30078125,
                    26989.990234375,
                    25128.169921875,
                    25605.5390625,
                    25763.16015625,
                    26289.98046875,
                    26119.609375,
                    26080.099609375,
                    25871.4609375,
                    26024.9609375,
                    26156.099609375,
                    25445.939453125,
                    25745.599609375,
                    25015.55078125,
                    25595.80078125,
                    25812.880859375,
                    25734.970703125,
                    25827.359375,
                    26287.029296875,
                    25890.1796875,
                    26067.279296875,
                    25706.08984375,
                    26075.30078125,
                    26085.80078125,
                    26642.58984375,
                    26870.099609375,
                    26734.7109375,
                    26671.94921875,
                    26680.869140625,
                    26840.400390625,
                    27005.83984375,
                    26652.330078125,
                    26469.890625,
                    26584.76953125,
                    26379.279296875,
                    26539.5703125,
                    26313.650390625,
                    26428.3203125,
                    26664.400390625,
                    26828.470703125,
                    27201.51953125,
                    27386.98046875,
                    27433.48046875,
                    27791.439453125,
                    27686.91015625,
                    27976.83984375,
                    27896.720703125,
                    27931.01953125,
                    27844.91015625,
                    27778.0703125,
                    27692.880859375,
                    27739.73046875,
                    27930.330078125,
                    28308.4609375,
                    28248.439453125,
                    28331.919921875,
                    28492.26953125,
                    28653.869140625,
                    28430.05078125,
                    28645.66015625,
                    29100.5,
                    28292.73046875,
                    28133.310546875,
                    27500.890625,
                    27940.470703125,
                    27534.580078125,
                    27665.640625,
                    27993.330078125,
                    27995.599609375,
                    28032.380859375,
                    27901.98046875,
                    27657.419921875,
                    27147.69921875,
                    27288.1796875,
                    26763.130859375,
                    26815.439453125,
                    27173.9609375,
                    27584.060546875,
                    27452.66015625,
                    27781.69921875,
                    27816.900390625,
                    27682.810546875,
                    28148.640625,
                    27772.759765625,
                    28303.4609375,
                    28425.509765625,
                    28586.900390625,
                    28837.51953125,
                    28679.810546875,
                    28514,
                    28494.19921875,
                    28606.310546875,
                    28195.419921875,
                    28308.7890625,
                    28210.8203125,
                    28363.66015625,
                    28335.5703125,
                    27685.380859375,
                    27463.189453125,
                    26519.94921875,
                    26659.109375,
                    26501.599609375,
                    26925.05078125,
                    27480.029296875,
                    27847.66015625,
                    28390.1796875,
                    28323.400390625,
                    29157.970703125,
                    29420.919921875,
                    29397.630859375,
                    29080.169921875,
                    29479.810546875,
                    29950.439453125,
                    29783.349609375,
                    29438.419921875,
                    29483.23046875,
                    29263.48046875,
                    29591.26953125,
                    30046.240234375,
                    29872.470703125,
                    29910.369140625,
                    29638.640625,
                    29823.919921875,
                    29883.7890625,
                    29969.51953125,
                    30218.259765625,
                    30069.7890625,
                    30173.880859375,
                    30068.810546875,
                    29999.259765625,
                    30046.369140625,
                    29861.55078125,
                    30199.310546875,
                    30154.5390625,
                    30303.369140625,
                    30179.05078125,
                    30216.44921875,
                    30015.509765625,
                    30129.830078125,
                    30199.869140625,
                    30403.970703125,
                    30335.669921875,
                    30409.560546875,
                    30606.48046875,
                    30223.890625,
                    30391.599609375,
                    30829.400390625,
                    31041.130859375,
                    31097.970703125,
                    31008.689453125,
                    31068.689453125,
                    31060.470703125,
                    30991.51953125,
                    30814.259765625,
                    30930.51953125,
                    31188.380859375,
                    31176.009765625,
                    30996.98046875,
                    30960,
                    30937.0390625,
                    30303.169921875,
                    30603.359375,
                    29982.619140625,
                    30211.91015625,
                    30687.48046875,
                    30723.599609375,
                    31055.859375,
                    31148.240234375,
                    31385.759765625,
                    31375.830078125,
                    31437.80078125,
                    31430.69921875,
                    31458.400390625,
                    31522.75,
                    31613.01953125,
                    31493.33984375,
                    31494.3203125,
                    31521.689453125,
                    31537.349609375,
                    31961.859375,
                    31402.009765625,
                    30932.369140625,
                    31535.509765625,
                    31391.51953125,
                    31270.08984375,
                    30924.140625,
                    31496.30078125,
                    31802.439453125,
                    31832.740234375,
                    32297.01953125,
                    32485.58984375,
                    32778.640625,
                    32953.4609375,
                    32825.94921875,
                    33015.37109375,
                    32862.30078125,
                    32627.970703125,
                    32731.19921875,
                    32423.150390625,
                    32420.060546875,
                    32619.48046875,
                    33072.87890625,
                    33171.37109375,
                    33066.9609375,
                    32981.55078125,
                    33153.2109375,
                    33527.19140625,
                    33430.23828125,
                    33446.26171875,
                    33503.5703125,
                    33800.6015625,
                    33745.3984375,
                    33677.26953125,
                    33730.890625,
                    34035.98828125,
                    34200.671875,
                    34077.62890625,
                    33821.30078125,
                    34137.30859375,
                    33815.8984375,
                    34043.48828125,
                    33981.5703125,
                    33984.9296875,
                    33820.37890625,
                    34060.359375,
                    33874.8515625,
                    34113.23046875,
                    34133.03125,
                    34230.33984375,
                    34548.53125,
                    34777.76171875,
                    34742.8203125,
                    34269.16015625,
                    33587.66015625,
                    34021.44921875,
                    34382.12890625,
                    34327.7890625,
                    34060.66015625,
                    33896.0390625,
                    34084.1484375,
                    34207.83984375,
                    34393.98046875,
                    34312.4609375,
                    34323.05078125,
                    34464.640625,
                    34529.44921875,
                    34575.30859375,
                    34600.37890625,
                    34577.0390625,
                    34756.390625,
                    34630.23828125,
                    34599.8203125,
                    34447.140625,
                    34466.23828125,
                    34479.6015625,
                    34393.75,
                    34299.328125,
                    34033.671875,
                    33823.44921875,
                    33290.078125,
                    33876.96875,
                    33945.578125,
                    33874.23828125,
                    34196.8203125,
                    34433.83984375,
                    34283.26953125,
                    34292.2890625,
                    34502.51171875,
                    34633.53125,
                    34786.3515625,
                    34577.37109375,
                    34681.7890625,
                    34421.9296875,
                    34870.16015625,
                    34996.1796875,
                    34888.7890625,
                    34933.23046875,
                    34987.01953125,
                    34687.8515625,
                    33962.0390625,
                    34511.98828125,
                    34798,
                    34823.3515625,
                    35061.55078125,
                    35144.30859375,
                    35058.51953125,
                    34930.9296875,
                    35084.53125,
                    34935.46875,
                    34838.16015625,
                    35116.3984375,
                    34792.671875,
                    35064.25,
                    35208.51171875,
                    35101.8515625,
                    35264.671875,
                    35484.96875,
                    35499.8515625,
                    35515.37890625,
                    35625.3984375,
                    35343.28125,
                    34960.69140625,
                    34894.12109375,
                    35120.078125,
                    35335.7109375,
                    35366.26171875,
                    35405.5,
                    35213.12109375,
                    35455.80078125,
                    35399.83984375,
                    35360.73046875,
                    35312.53125,
                    35443.8203125,
                    35369.08984375,
                    35100,
                    35031.0703125,
                    34879.37890625,
                    34607.71875,
                    34869.62890625,
                    34577.5703125,
                    34814.390625,
                    34751.3203125,
                    34584.87890625,
                    33970.46875,
                    33919.83984375,
                    34258.3203125,
                    34764.8203125,
                    34798,
                    34869.37109375,
                    34299.98828125,
                    34390.71875,
                    33843.921875,
                    34326.4609375,
                    34002.921875,
                    34314.671875,
                    34416.98828125,
                    34754.94140625,
                    34746.25,
                    34496.05859375,
                    34378.33984375,
                    34377.80859375,
                    34912.55859375,
                    35294.76171875,
                    35258.609375,
                    35457.30859375,
                    35609.33984375,
                    35603.078125,
                    35677.01953125,
                    35741.1484375,
                    35756.87890625,
                    35490.69140625,
                    35730.48046875,
                    35819.55859375,
                    35913.83984375,
                    36052.62890625,
                    36157.578125,
                    36124.23046875,
                    36327.94921875,
                    36432.21875,
                    36319.98046875,
                    36079.94140625,
                    35921.23046875,
                    36100.30859375,
                    36087.44921875,
                    36142.21875,
                    35931.05078125,
                    35870.94921875,
                    35601.98046875,
                    35619.25,
                    35813.80078125,
                    35804.37890625,
                    34899.33984375,
                    35135.94140625,
                    34483.71875,
                    34022.0390625,
                    34639.7890625,
                    34580.078125,
                    35227.03125,
                    35719.4296875,
                    35754.75,
                    35754.69140625,
                    35970.98828125,
                    35650.94921875,
                    35544.1796875,
                    35927.4296875,
                    35897.640625,
                    35365.44140625,
                    34932.16015625,
                    35492.69921875,
                    35753.890625,
                    35950.55859375,
                    36302.37890625,
                    36398.2109375,
                    36488.62890625,
                    36398.078125,
                    36338.30078125,
                    36585.05859375,
                    36799.6484375,
                    36407.109375,
                    36236.46875,
                    36231.66015625,
                    36068.87109375,
                    36252.01953125,
                    36290.3203125,
                    36113.62109375,
                    35911.80859375,
                    35368.46875,
                    35028.6484375,
                    34715.390625,
                    34265.37109375,
                    34364.5,
                    34297.73046875,
                    34168.08984375,
                    34160.78125
                  ]
                },
                {
                  "mode": "lines",
                  "name": "Predicted",
                  "type": "scatter",
                  "x": [
                    "2022-01-28T00:00:00",
                    "2022-01-31T00:00:00",
                    "2022-02-01T00:00:00",
                    "2022-02-02T00:00:00",
                    "2022-02-03T00:00:00",
                    "2022-02-04T00:00:00",
                    "2022-02-07T00:00:00",
                    "2022-02-08T00:00:00",
                    "2022-02-09T00:00:00",
                    "2022-02-10T00:00:00",
                    "2022-02-11T00:00:00",
                    "2022-02-14T00:00:00",
                    "2022-02-15T00:00:00",
                    "2022-02-16T00:00:00",
                    "2022-02-17T00:00:00",
                    "2022-02-18T00:00:00",
                    "2022-02-22T00:00:00",
                    "2022-02-23T00:00:00",
                    "2022-02-24T00:00:00",
                    "2022-02-25T00:00:00",
                    "2022-02-28T00:00:00",
                    "2022-03-01T00:00:00",
                    "2022-03-02T00:00:00",
                    "2022-03-03T00:00:00",
                    "2022-03-04T00:00:00",
                    "2022-03-07T00:00:00",
                    "2022-03-08T00:00:00",
                    "2022-03-09T00:00:00",
                    "2022-03-10T00:00:00",
                    "2022-03-11T00:00:00",
                    "2022-03-14T00:00:00",
                    "2022-03-15T00:00:00",
                    "2022-03-16T00:00:00",
                    "2022-03-17T00:00:00",
                    "2022-03-18T00:00:00",
                    "2022-03-21T00:00:00",
                    "2022-03-22T00:00:00",
                    "2022-03-23T00:00:00",
                    "2022-03-24T00:00:00",
                    "2022-03-25T00:00:00",
                    "2022-03-28T00:00:00",
                    "2022-03-29T00:00:00",
                    "2022-03-30T00:00:00",
                    "2022-03-31T00:00:00",
                    "2022-04-01T00:00:00",
                    "2022-04-04T00:00:00",
                    "2022-04-05T00:00:00",
                    "2022-04-06T00:00:00",
                    "2022-04-07T00:00:00",
                    "2022-04-08T00:00:00",
                    "2022-04-11T00:00:00",
                    "2022-04-12T00:00:00",
                    "2022-04-13T00:00:00",
                    "2022-04-14T00:00:00",
                    "2022-04-18T00:00:00",
                    "2022-04-19T00:00:00",
                    "2022-04-20T00:00:00",
                    "2022-04-21T00:00:00",
                    "2022-04-22T00:00:00",
                    "2022-04-25T00:00:00",
                    "2022-04-26T00:00:00",
                    "2022-04-27T00:00:00",
                    "2022-04-28T00:00:00",
                    "2022-04-29T00:00:00",
                    "2022-05-02T00:00:00",
                    "2022-05-03T00:00:00",
                    "2022-05-04T00:00:00",
                    "2022-05-05T00:00:00",
                    "2022-05-06T00:00:00",
                    "2022-05-09T00:00:00",
                    "2022-05-10T00:00:00",
                    "2022-05-11T00:00:00",
                    "2022-05-12T00:00:00",
                    "2022-05-13T00:00:00",
                    "2022-05-16T00:00:00",
                    "2022-05-17T00:00:00",
                    "2022-05-18T00:00:00",
                    "2022-05-19T00:00:00",
                    "2022-05-20T00:00:00",
                    "2022-05-23T00:00:00",
                    "2022-05-24T00:00:00",
                    "2022-05-25T00:00:00",
                    "2022-05-26T00:00:00",
                    "2022-05-27T00:00:00",
                    "2022-05-31T00:00:00",
                    "2022-06-01T00:00:00",
                    "2022-06-02T00:00:00",
                    "2022-06-03T00:00:00",
                    "2022-06-06T00:00:00",
                    "2022-06-07T00:00:00",
                    "2022-06-08T00:00:00",
                    "2022-06-09T00:00:00",
                    "2022-06-10T00:00:00",
                    "2022-06-13T00:00:00",
                    "2022-06-14T00:00:00",
                    "2022-06-15T00:00:00",
                    "2022-06-16T00:00:00",
                    "2022-06-17T00:00:00",
                    "2022-06-21T00:00:00",
                    "2022-06-22T00:00:00",
                    "2022-06-23T00:00:00",
                    "2022-06-24T00:00:00",
                    "2022-06-27T00:00:00",
                    "2022-06-28T00:00:00",
                    "2022-06-29T00:00:00",
                    "2022-06-30T00:00:00",
                    "2022-07-01T00:00:00",
                    "2022-07-05T00:00:00",
                    "2022-07-06T00:00:00",
                    "2022-07-07T00:00:00",
                    "2022-07-08T00:00:00",
                    "2022-07-11T00:00:00",
                    "2022-07-12T00:00:00",
                    "2022-07-13T00:00:00",
                    "2022-07-14T00:00:00",
                    "2022-07-15T00:00:00",
                    "2022-07-18T00:00:00",
                    "2022-07-19T00:00:00",
                    "2022-07-20T00:00:00",
                    "2022-07-21T00:00:00",
                    "2022-07-22T00:00:00",
                    "2022-07-25T00:00:00",
                    "2022-07-26T00:00:00",
                    "2022-07-27T00:00:00",
                    "2022-07-28T00:00:00",
                    "2022-07-29T00:00:00",
                    "2022-08-01T00:00:00",
                    "2022-08-02T00:00:00",
                    "2022-08-03T00:00:00",
                    "2022-08-04T00:00:00",
                    "2022-08-05T00:00:00"
                  ],
                  "y": [
                    35017.71875,
                    35198.125,
                    35303.6640625,
                    35301.84765625,
                    35042.6484375,
                    34967.90625,
                    35003.0078125,
                    34989.22265625,
                    34863.76171875,
                    34568.109375,
                    34329.484375,
                    34203.74609375,
                    34164.29296875,
                    33945.43359375,
                    33703.7734375,
                    33609.37890625,
                    33427.46484375,
                    33529.14453125,
                    33561.19140625,
                    33481.45703125,
                    33311.29296875,
                    33213.75390625,
                    33328.23828125,
                    33159.07421875,
                    33857.87890625,
                    33788.609375,
                    33977.11328125,
                    34344.546875,
                    33629.47265625,
                    34661.1171875,
                    33979.77734375,
                    34266.92578125,
                    34429.25,
                    34569.77734375,
                    34656.71484375,
                    34764.7734375,
                    34796.49609375,
                    34737.2734375,
                    34804.27734375,
                    34852.234375,
                    34841.67578125,
                    34763.03125,
                    34713.2109375,
                    34604.21484375,
                    34543.05859375,
                    34493.546875,
                    34443.73828125,
                    34406.38671875,
                    34404.73828125,
                    34435.37109375,
                    34560.06640625,
                    34431.16796875,
                    34512.54296875,
                    34292.1953125,
                    33448.1171875,
                    34325.99609375,
                    33942.1328125,
                    33788.41796875,
                    33260.57421875,
                    33437.28515625,
                    33192.65625,
                    33344.20703125,
                    33119.265625,
                    32901.51953125,
                    32769.62109375,
                    32778.85546875,
                    32777.625,
                    32158.3046875,
                    32258.36328125,
                    32038.087890625,
                    32007.154296875,
                    31703.5625,
                    31735.734375,
                    31810.39453125,
                    32623.529296875,
                    32601.841796875,
                    32556.580078125,
                    32765.4453125,
                    32178.623046875,
                    32462.427734375,
                    32569.9375,
                    32710.90625,
                    32839.6171875,
                    32923,
                    32850.9921875,
                    32728.33203125,
                    31470.912109375,
                    31030.423828125,
                    30834.78515625,
                    31340.13671875,
                    30934.3203125,
                    30932.474609375,
                    31232.97265625,
                    31026.619140625,
                    30368.1796875,
                    30549.076171875,
                    30547.921875,
                    30716.904296875,
                    30772.09765625,
                    30879.9296875,
                    30958.759765625,
                    31064.74609375,
                    31014.228515625,
                    30970.111328125,
                    31027.873046875,
                    31011.1796875,
                    31078.583984375,
                    30920.462890625,
                    31784.43359375,
                    30977.01171875,
                    31848.044921875,
                    31066.78515625,
                    31230.298828125,
                    31261.986328125,
                    31584.328125,
                    32326.083984375,
                    32442.7265625,
                    31865.3671875,
                    32006.80078125,
                    32200.931640625,
                    32193.46484375
                  ]
                },
                {
                  "mode": "lines",
                  "name": "Actuals",
                  "type": "scatter",
                  "x": [
                    "2022-01-28T00:00:00",
                    "2022-01-31T00:00:00",
                    "2022-02-01T00:00:00",
                    "2022-02-02T00:00:00",
                    "2022-02-03T00:00:00",
                    "2022-02-04T00:00:00",
                    "2022-02-07T00:00:00",
                    "2022-02-08T00:00:00",
                    "2022-02-09T00:00:00",
                    "2022-02-10T00:00:00",
                    "2022-02-11T00:00:00",
                    "2022-02-14T00:00:00",
                    "2022-02-15T00:00:00",
                    "2022-02-16T00:00:00",
                    "2022-02-17T00:00:00",
                    "2022-02-18T00:00:00",
                    "2022-02-22T00:00:00",
                    "2022-02-23T00:00:00",
                    "2022-02-24T00:00:00",
                    "2022-02-25T00:00:00",
                    "2022-02-28T00:00:00",
                    "2022-03-01T00:00:00",
                    "2022-03-02T00:00:00",
                    "2022-03-03T00:00:00",
                    "2022-03-04T00:00:00",
                    "2022-03-07T00:00:00",
                    "2022-03-08T00:00:00",
                    "2022-03-09T00:00:00",
                    "2022-03-10T00:00:00",
                    "2022-03-11T00:00:00",
                    "2022-03-14T00:00:00",
                    "2022-03-15T00:00:00",
                    "2022-03-16T00:00:00",
                    "2022-03-17T00:00:00",
                    "2022-03-18T00:00:00",
                    "2022-03-21T00:00:00",
                    "2022-03-22T00:00:00",
                    "2022-03-23T00:00:00",
                    "2022-03-24T00:00:00",
                    "2022-03-25T00:00:00",
                    "2022-03-28T00:00:00",
                    "2022-03-29T00:00:00",
                    "2022-03-30T00:00:00",
                    "2022-03-31T00:00:00",
                    "2022-04-01T00:00:00",
                    "2022-04-04T00:00:00",
                    "2022-04-05T00:00:00",
                    "2022-04-06T00:00:00",
                    "2022-04-07T00:00:00",
                    "2022-04-08T00:00:00",
                    "2022-04-11T00:00:00",
                    "2022-04-12T00:00:00",
                    "2022-04-13T00:00:00",
                    "2022-04-14T00:00:00",
                    "2022-04-18T00:00:00",
                    "2022-04-19T00:00:00",
                    "2022-04-20T00:00:00",
                    "2022-04-21T00:00:00",
                    "2022-04-22T00:00:00",
                    "2022-04-25T00:00:00",
                    "2022-04-26T00:00:00",
                    "2022-04-27T00:00:00",
                    "2022-04-28T00:00:00",
                    "2022-04-29T00:00:00",
                    "2022-05-02T00:00:00",
                    "2022-05-03T00:00:00",
                    "2022-05-04T00:00:00",
                    "2022-05-05T00:00:00",
                    "2022-05-06T00:00:00",
                    "2022-05-09T00:00:00",
                    "2022-05-10T00:00:00",
                    "2022-05-11T00:00:00",
                    "2022-05-12T00:00:00",
                    "2022-05-13T00:00:00",
                    "2022-05-16T00:00:00",
                    "2022-05-17T00:00:00",
                    "2022-05-18T00:00:00",
                    "2022-05-19T00:00:00",
                    "2022-05-20T00:00:00",
                    "2022-05-23T00:00:00",
                    "2022-05-24T00:00:00",
                    "2022-05-25T00:00:00",
                    "2022-05-26T00:00:00",
                    "2022-05-27T00:00:00",
                    "2022-05-31T00:00:00",
                    "2022-06-01T00:00:00",
                    "2022-06-02T00:00:00",
                    "2022-06-03T00:00:00",
                    "2022-06-06T00:00:00",
                    "2022-06-07T00:00:00",
                    "2022-06-08T00:00:00",
                    "2022-06-09T00:00:00",
                    "2022-06-10T00:00:00",
                    "2022-06-13T00:00:00",
                    "2022-06-14T00:00:00",
                    "2022-06-15T00:00:00",
                    "2022-06-16T00:00:00",
                    "2022-06-17T00:00:00",
                    "2022-06-21T00:00:00",
                    "2022-06-22T00:00:00",
                    "2022-06-23T00:00:00",
                    "2022-06-24T00:00:00",
                    "2022-06-27T00:00:00",
                    "2022-06-28T00:00:00",
                    "2022-06-29T00:00:00",
                    "2022-06-30T00:00:00",
                    "2022-07-01T00:00:00",
                    "2022-07-05T00:00:00",
                    "2022-07-06T00:00:00",
                    "2022-07-07T00:00:00",
                    "2022-07-08T00:00:00",
                    "2022-07-11T00:00:00",
                    "2022-07-12T00:00:00",
                    "2022-07-13T00:00:00",
                    "2022-07-14T00:00:00",
                    "2022-07-15T00:00:00",
                    "2022-07-18T00:00:00",
                    "2022-07-19T00:00:00",
                    "2022-07-20T00:00:00",
                    "2022-07-21T00:00:00",
                    "2022-07-22T00:00:00",
                    "2022-07-25T00:00:00",
                    "2022-07-26T00:00:00",
                    "2022-07-27T00:00:00",
                    "2022-07-28T00:00:00",
                    "2022-07-29T00:00:00",
                    "2022-08-01T00:00:00",
                    "2022-08-02T00:00:00",
                    "2022-08-03T00:00:00",
                    "2022-08-04T00:00:00",
                    "2022-08-05T00:00:00"
                  ],
                  "y": [
                    34725.46875,
                    35131.859375,
                    35405.23828125,
                    35629.328125,
                    35111.16015625,
                    35089.73828125,
                    35091.12890625,
                    35462.78125,
                    35768.05859375,
                    35241.58984375,
                    34738.05859375,
                    34566.171875,
                    34988.83984375,
                    34934.26953125,
                    34312.03125,
                    34079.1796875,
                    33596.609375,
                    33131.76171875,
                    33223.828125,
                    34058.75,
                    33892.6015625,
                    33294.94921875,
                    33891.3515625,
                    33794.66015625,
                    33614.80078125,
                    32817.37890625,
                    32632.640625,
                    33286.25,
                    33174.0703125,
                    32944.19140625,
                    32945.23828125,
                    33544.33984375,
                    34063.1015625,
                    34480.76171875,
                    34754.9296875,
                    34552.98828125,
                    34807.4609375,
                    34358.5,
                    34707.94140625,
                    34861.23828125,
                    34955.890625,
                    35294.19140625,
                    35228.80859375,
                    34678.3515625,
                    34818.26953125,
                    34921.87890625,
                    34641.1796875,
                    34496.51171875,
                    34583.5703125,
                    34721.12109375,
                    34308.078125,
                    34220.359375,
                    34564.58984375,
                    34451.23046875,
                    34411.69140625,
                    34911.19921875,
                    35160.7890625,
                    34792.76171875,
                    33811.3984375,
                    34049.4609375,
                    33240.1796875,
                    33301.9296875,
                    33916.390625,
                    32977.2109375,
                    33061.5,
                    33128.7890625,
                    34061.05859375,
                    32997.96875,
                    32899.37109375,
                    32245.69921875,
                    32160.740234375,
                    31834.109375,
                    31730.30078125,
                    32196.66015625,
                    32223.419921875,
                    32654.58984375,
                    31490.0703125,
                    31253.130859375,
                    31261.900390625,
                    31880.240234375,
                    31928.619140625,
                    32120.279296875,
                    32637.189453125,
                    33212.9609375,
                    32990.12109375,
                    32813.23046875,
                    33248.28125,
                    32899.69921875,
                    32915.78125,
                    33180.140625,
                    32910.8984375,
                    32272.7890625,
                    31392.7890625,
                    30516.740234375,
                    30364.830078125,
                    30668.529296875,
                    29927.0703125,
                    29888.779296875,
                    30530.25,
                    30483.130859375,
                    30677.359375,
                    31500.6796875,
                    31438.259765625,
                    30946.990234375,
                    31029.310546875,
                    30775.4296875,
                    31097.259765625,
                    30967.8203125,
                    31037.6796875,
                    31384.55078125,
                    31338.150390625,
                    31173.83984375,
                    30981.330078125,
                    30772.7890625,
                    30630.169921875,
                    31288.259765625,
                    31072.609375,
                    31827.05078125,
                    31874.83984375,
                    32036.900390625,
                    31899.2890625,
                    31990.0390625,
                    31761.5390625,
                    32197.58984375,
                    32529.630859375,
                    32845.12890625,
                    32798.3984375,
                    32396.169921875,
                    32812.5,
                    32726.8203125,
                    32803.46875
                  ]
                }
              ],
              "layout": {
                "template": {
                  "data": {
                    "bar": [
                      {
                        "error_x": {
                          "color": "#2a3f5f"
                        },
                        "error_y": {
                          "color": "#2a3f5f"
                        },
                        "marker": {
                          "line": {
                            "color": "#E5ECF6",
                            "width": 0.5
                          },
                          "pattern": {
                            "fillmode": "overlay",
                            "size": 10,
                            "solidity": 0.2
                          }
                        },
                        "type": "bar"
                      }
                    ],
                    "barpolar": [
                      {
                        "marker": {
                          "line": {
                            "color": "#E5ECF6",
                            "width": 0.5
                          },
                          "pattern": {
                            "fillmode": "overlay",
                            "size": 10,
                            "solidity": 0.2
                          }
                        },
                        "type": "barpolar"
                      }
                    ],
                    "carpet": [
                      {
                        "aaxis": {
                          "endlinecolor": "#2a3f5f",
                          "gridcolor": "white",
                          "linecolor": "white",
                          "minorgridcolor": "white",
                          "startlinecolor": "#2a3f5f"
                        },
                        "baxis": {
                          "endlinecolor": "#2a3f5f",
                          "gridcolor": "white",
                          "linecolor": "white",
                          "minorgridcolor": "white",
                          "startlinecolor": "#2a3f5f"
                        },
                        "type": "carpet"
                      }
                    ],
                    "choropleth": [
                      {
                        "colorbar": {
                          "outlinewidth": 0,
                          "ticks": ""
                        },
                        "type": "choropleth"
                      }
                    ],
                    "contour": [
                      {
                        "colorbar": {
                          "outlinewidth": 0,
                          "ticks": ""
                        },
                        "colorscale": [
                          [
                            0,
                            "#0d0887"
                          ],
                          [
                            0.1111111111111111,
                            "#46039f"
                          ],
                          [
                            0.2222222222222222,
                            "#7201a8"
                          ],
                          [
                            0.3333333333333333,
                            "#9c179e"
                          ],
                          [
                            0.4444444444444444,
                            "#bd3786"
                          ],
                          [
                            0.5555555555555556,
                            "#d8576b"
                          ],
                          [
                            0.6666666666666666,
                            "#ed7953"
                          ],
                          [
                            0.7777777777777778,
                            "#fb9f3a"
                          ],
                          [
                            0.8888888888888888,
                            "#fdca26"
                          ],
                          [
                            1,
                            "#f0f921"
                          ]
                        ],
                        "type": "contour"
                      }
                    ],
                    "contourcarpet": [
                      {
                        "colorbar": {
                          "outlinewidth": 0,
                          "ticks": ""
                        },
                        "type": "contourcarpet"
                      }
                    ],
                    "heatmap": [
                      {
                        "colorbar": {
                          "outlinewidth": 0,
                          "ticks": ""
                        },
                        "colorscale": [
                          [
                            0,
                            "#0d0887"
                          ],
                          [
                            0.1111111111111111,
                            "#46039f"
                          ],
                          [
                            0.2222222222222222,
                            "#7201a8"
                          ],
                          [
                            0.3333333333333333,
                            "#9c179e"
                          ],
                          [
                            0.4444444444444444,
                            "#bd3786"
                          ],
                          [
                            0.5555555555555556,
                            "#d8576b"
                          ],
                          [
                            0.6666666666666666,
                            "#ed7953"
                          ],
                          [
                            0.7777777777777778,
                            "#fb9f3a"
                          ],
                          [
                            0.8888888888888888,
                            "#fdca26"
                          ],
                          [
                            1,
                            "#f0f921"
                          ]
                        ],
                        "type": "heatmap"
                      }
                    ],
                    "heatmapgl": [
                      {
                        "colorbar": {
                          "outlinewidth": 0,
                          "ticks": ""
                        },
                        "colorscale": [
                          [
                            0,
                            "#0d0887"
                          ],
                          [
                            0.1111111111111111,
                            "#46039f"
                          ],
                          [
                            0.2222222222222222,
                            "#7201a8"
                          ],
                          [
                            0.3333333333333333,
                            "#9c179e"
                          ],
                          [
                            0.4444444444444444,
                            "#bd3786"
                          ],
                          [
                            0.5555555555555556,
                            "#d8576b"
                          ],
                          [
                            0.6666666666666666,
                            "#ed7953"
                          ],
                          [
                            0.7777777777777778,
                            "#fb9f3a"
                          ],
                          [
                            0.8888888888888888,
                            "#fdca26"
                          ],
                          [
                            1,
                            "#f0f921"
                          ]
                        ],
                        "type": "heatmapgl"
                      }
                    ],
                    "histogram": [
                      {
                        "marker": {
                          "pattern": {
                            "fillmode": "overlay",
                            "size": 10,
                            "solidity": 0.2
                          }
                        },
                        "type": "histogram"
                      }
                    ],
                    "histogram2d": [
                      {
                        "colorbar": {
                          "outlinewidth": 0,
                          "ticks": ""
                        },
                        "colorscale": [
                          [
                            0,
                            "#0d0887"
                          ],
                          [
                            0.1111111111111111,
                            "#46039f"
                          ],
                          [
                            0.2222222222222222,
                            "#7201a8"
                          ],
                          [
                            0.3333333333333333,
                            "#9c179e"
                          ],
                          [
                            0.4444444444444444,
                            "#bd3786"
                          ],
                          [
                            0.5555555555555556,
                            "#d8576b"
                          ],
                          [
                            0.6666666666666666,
                            "#ed7953"
                          ],
                          [
                            0.7777777777777778,
                            "#fb9f3a"
                          ],
                          [
                            0.8888888888888888,
                            "#fdca26"
                          ],
                          [
                            1,
                            "#f0f921"
                          ]
                        ],
                        "type": "histogram2d"
                      }
                    ],
                    "histogram2dcontour": [
                      {
                        "colorbar": {
                          "outlinewidth": 0,
                          "ticks": ""
                        },
                        "colorscale": [
                          [
                            0,
                            "#0d0887"
                          ],
                          [
                            0.1111111111111111,
                            "#46039f"
                          ],
                          [
                            0.2222222222222222,
                            "#7201a8"
                          ],
                          [
                            0.3333333333333333,
                            "#9c179e"
                          ],
                          [
                            0.4444444444444444,
                            "#bd3786"
                          ],
                          [
                            0.5555555555555556,
                            "#d8576b"
                          ],
                          [
                            0.6666666666666666,
                            "#ed7953"
                          ],
                          [
                            0.7777777777777778,
                            "#fb9f3a"
                          ],
                          [
                            0.8888888888888888,
                            "#fdca26"
                          ],
                          [
                            1,
                            "#f0f921"
                          ]
                        ],
                        "type": "histogram2dcontour"
                      }
                    ],
                    "mesh3d": [
                      {
                        "colorbar": {
                          "outlinewidth": 0,
                          "ticks": ""
                        },
                        "type": "mesh3d"
                      }
                    ],
                    "parcoords": [
                      {
                        "line": {
                          "colorbar": {
                            "outlinewidth": 0,
                            "ticks": ""
                          }
                        },
                        "type": "parcoords"
                      }
                    ],
                    "pie": [
                      {
                        "automargin": true,
                        "type": "pie"
                      }
                    ],
                    "scatter": [
                      {
                        "fillpattern": {
                          "fillmode": "overlay",
                          "size": 10,
                          "solidity": 0.2
                        },
                        "type": "scatter"
                      }
                    ],
                    "scatter3d": [
                      {
                        "line": {
                          "colorbar": {
                            "outlinewidth": 0,
                            "ticks": ""
                          }
                        },
                        "marker": {
                          "colorbar": {
                            "outlinewidth": 0,
                            "ticks": ""
                          }
                        },
                        "type": "scatter3d"
                      }
                    ],
                    "scattercarpet": [
                      {
                        "marker": {
                          "colorbar": {
                            "outlinewidth": 0,
                            "ticks": ""
                          }
                        },
                        "type": "scattercarpet"
                      }
                    ],
                    "scattergeo": [
                      {
                        "marker": {
                          "colorbar": {
                            "outlinewidth": 0,
                            "ticks": ""
                          }
                        },
                        "type": "scattergeo"
                      }
                    ],
                    "scattergl": [
                      {
                        "marker": {
                          "colorbar": {
                            "outlinewidth": 0,
                            "ticks": ""
                          }
                        },
                        "type": "scattergl"
                      }
                    ],
                    "scattermapbox": [
                      {
                        "marker": {
                          "colorbar": {
                            "outlinewidth": 0,
                            "ticks": ""
                          }
                        },
                        "type": "scattermapbox"
                      }
                    ],
                    "scatterpolar": [
                      {
                        "marker": {
                          "colorbar": {
                            "outlinewidth": 0,
                            "ticks": ""
                          }
                        },
                        "type": "scatterpolar"
                      }
                    ],
                    "scatterpolargl": [
                      {
                        "marker": {
                          "colorbar": {
                            "outlinewidth": 0,
                            "ticks": ""
                          }
                        },
                        "type": "scatterpolargl"
                      }
                    ],
                    "scatterternary": [
                      {
                        "marker": {
                          "colorbar": {
                            "outlinewidth": 0,
                            "ticks": ""
                          }
                        },
                        "type": "scatterternary"
                      }
                    ],
                    "surface": [
                      {
                        "colorbar": {
                          "outlinewidth": 0,
                          "ticks": ""
                        },
                        "colorscale": [
                          [
                            0,
                            "#0d0887"
                          ],
                          [
                            0.1111111111111111,
                            "#46039f"
                          ],
                          [
                            0.2222222222222222,
                            "#7201a8"
                          ],
                          [
                            0.3333333333333333,
                            "#9c179e"
                          ],
                          [
                            0.4444444444444444,
                            "#bd3786"
                          ],
                          [
                            0.5555555555555556,
                            "#d8576b"
                          ],
                          [
                            0.6666666666666666,
                            "#ed7953"
                          ],
                          [
                            0.7777777777777778,
                            "#fb9f3a"
                          ],
                          [
                            0.8888888888888888,
                            "#fdca26"
                          ],
                          [
                            1,
                            "#f0f921"
                          ]
                        ],
                        "type": "surface"
                      }
                    ],
                    "table": [
                      {
                        "cells": {
                          "fill": {
                            "color": "#EBF0F8"
                          },
                          "line": {
                            "color": "white"
                          }
                        },
                        "header": {
                          "fill": {
                            "color": "#C8D4E3"
                          },
                          "line": {
                            "color": "white"
                          }
                        },
                        "type": "table"
                      }
                    ]
                  },
                  "layout": {
                    "annotationdefaults": {
                      "arrowcolor": "#2a3f5f",
                      "arrowhead": 0,
                      "arrowwidth": 1
                    },
                    "autotypenumbers": "strict",
                    "coloraxis": {
                      "colorbar": {
                        "outlinewidth": 0,
                        "ticks": ""
                      }
                    },
                    "colorscale": {
                      "diverging": [
                        [
                          0,
                          "#8e0152"
                        ],
                        [
                          0.1,
                          "#c51b7d"
                        ],
                        [
                          0.2,
                          "#de77ae"
                        ],
                        [
                          0.3,
                          "#f1b6da"
                        ],
                        [
                          0.4,
                          "#fde0ef"
                        ],
                        [
                          0.5,
                          "#f7f7f7"
                        ],
                        [
                          0.6,
                          "#e6f5d0"
                        ],
                        [
                          0.7,
                          "#b8e186"
                        ],
                        [
                          0.8,
                          "#7fbc41"
                        ],
                        [
                          0.9,
                          "#4d9221"
                        ],
                        [
                          1,
                          "#276419"
                        ]
                      ],
                      "sequential": [
                        [
                          0,
                          "#0d0887"
                        ],
                        [
                          0.1111111111111111,
                          "#46039f"
                        ],
                        [
                          0.2222222222222222,
                          "#7201a8"
                        ],
                        [
                          0.3333333333333333,
                          "#9c179e"
                        ],
                        [
                          0.4444444444444444,
                          "#bd3786"
                        ],
                        [
                          0.5555555555555556,
                          "#d8576b"
                        ],
                        [
                          0.6666666666666666,
                          "#ed7953"
                        ],
                        [
                          0.7777777777777778,
                          "#fb9f3a"
                        ],
                        [
                          0.8888888888888888,
                          "#fdca26"
                        ],
                        [
                          1,
                          "#f0f921"
                        ]
                      ],
                      "sequentialminus": [
                        [
                          0,
                          "#0d0887"
                        ],
                        [
                          0.1111111111111111,
                          "#46039f"
                        ],
                        [
                          0.2222222222222222,
                          "#7201a8"
                        ],
                        [
                          0.3333333333333333,
                          "#9c179e"
                        ],
                        [
                          0.4444444444444444,
                          "#bd3786"
                        ],
                        [
                          0.5555555555555556,
                          "#d8576b"
                        ],
                        [
                          0.6666666666666666,
                          "#ed7953"
                        ],
                        [
                          0.7777777777777778,
                          "#fb9f3a"
                        ],
                        [
                          0.8888888888888888,
                          "#fdca26"
                        ],
                        [
                          1,
                          "#f0f921"
                        ]
                      ]
                    },
                    "colorway": [
                      "#636efa",
                      "#EF553B",
                      "#00cc96",
                      "#ab63fa",
                      "#FFA15A",
                      "#19d3f3",
                      "#FF6692",
                      "#B6E880",
                      "#FF97FF",
                      "#FECB52"
                    ],
                    "font": {
                      "color": "#2a3f5f"
                    },
                    "geo": {
                      "bgcolor": "white",
                      "lakecolor": "white",
                      "landcolor": "#E5ECF6",
                      "showlakes": true,
                      "showland": true,
                      "subunitcolor": "white"
                    },
                    "hoverlabel": {
                      "align": "left"
                    },
                    "hovermode": "closest",
                    "mapbox": {
                      "style": "light"
                    },
                    "paper_bgcolor": "white",
                    "plot_bgcolor": "#E5ECF6",
                    "polar": {
                      "angularaxis": {
                        "gridcolor": "white",
                        "linecolor": "white",
                        "ticks": ""
                      },
                      "bgcolor": "#E5ECF6",
                      "radialaxis": {
                        "gridcolor": "white",
                        "linecolor": "white",
                        "ticks": ""
                      }
                    },
                    "scene": {
                      "xaxis": {
                        "backgroundcolor": "#E5ECF6",
                        "gridcolor": "white",
                        "gridwidth": 2,
                        "linecolor": "white",
                        "showbackground": true,
                        "ticks": "",
                        "zerolinecolor": "white"
                      },
                      "yaxis": {
                        "backgroundcolor": "#E5ECF6",
                        "gridcolor": "white",
                        "gridwidth": 2,
                        "linecolor": "white",
                        "showbackground": true,
                        "ticks": "",
                        "zerolinecolor": "white"
                      },
                      "zaxis": {
                        "backgroundcolor": "#E5ECF6",
                        "gridcolor": "white",
                        "gridwidth": 2,
                        "linecolor": "white",
                        "showbackground": true,
                        "ticks": "",
                        "zerolinecolor": "white"
                      }
                    },
                    "shapedefaults": {
                      "line": {
                        "color": "#2a3f5f"
                      }
                    },
                    "ternary": {
                      "aaxis": {
                        "gridcolor": "white",
                        "linecolor": "white",
                        "ticks": ""
                      },
                      "baxis": {
                        "gridcolor": "white",
                        "linecolor": "white",
                        "ticks": ""
                      },
                      "bgcolor": "#E5ECF6",
                      "caxis": {
                        "gridcolor": "white",
                        "linecolor": "white",
                        "ticks": ""
                      }
                    },
                    "title": {
                      "x": 0.05
                    },
                    "xaxis": {
                      "automargin": true,
                      "gridcolor": "white",
                      "linecolor": "white",
                      "ticks": "",
                      "title": {
                        "standoff": 15
                      },
                      "zerolinecolor": "white",
                      "zerolinewidth": 2
                    },
                    "yaxis": {
                      "automargin": true,
                      "gridcolor": "white",
                      "linecolor": "white",
                      "ticks": "",
                      "title": {
                        "standoff": 15
                      },
                      "zerolinecolor": "white",
                      "zerolinewidth": 2
                    }
                  }
                },
                "title": {
                  "text": "Dow Jones index"
                },
                "xaxis": {
                  "title": {
                    "text": "Date"
                  }
                },
                "yaxis": {
                  "title": {
                    "text": "Close"
                  }
                }
              }
            },
            "text/html": [
              "<div>                            <div id=\"4269014a-db3f-48a6-b493-f446238b766b\" class=\"plotly-graph-div\" style=\"height:525px; width:100%;\"></div>            <script type=\"text/javascript\">                require([\"plotly\"], function(Plotly) {                    window.PLOTLYENV=window.PLOTLYENV || {};                                    if (document.getElementById(\"4269014a-db3f-48a6-b493-f446238b766b\")) {                    Plotly.newPlot(                        \"4269014a-db3f-48a6-b493-f446238b766b\",                        [{\"mode\":\"lines\",\"name\":\"Data\",\"x\":[\"2020-01-02T00:00:00\",\"2020-01-03T00:00:00\",\"2020-01-06T00:00:00\",\"2020-01-07T00:00:00\",\"2020-01-08T00:00:00\",\"2020-01-09T00:00:00\",\"2020-01-10T00:00:00\",\"2020-01-13T00:00:00\",\"2020-01-14T00:00:00\",\"2020-01-15T00:00:00\",\"2020-01-16T00:00:00\",\"2020-01-17T00:00:00\",\"2020-01-21T00:00:00\",\"2020-01-22T00:00:00\",\"2020-01-23T00:00:00\",\"2020-01-24T00:00:00\",\"2020-01-27T00:00:00\",\"2020-01-28T00:00:00\",\"2020-01-29T00:00:00\",\"2020-01-30T00:00:00\",\"2020-01-31T00:00:00\",\"2020-02-03T00:00:00\",\"2020-02-04T00:00:00\",\"2020-02-05T00:00:00\",\"2020-02-06T00:00:00\",\"2020-02-07T00:00:00\",\"2020-02-10T00:00:00\",\"2020-02-11T00:00:00\",\"2020-02-12T00:00:00\",\"2020-02-13T00:00:00\",\"2020-02-14T00:00:00\",\"2020-02-18T00:00:00\",\"2020-02-19T00:00:00\",\"2020-02-20T00:00:00\",\"2020-02-21T00:00:00\",\"2020-02-24T00:00:00\",\"2020-02-25T00:00:00\",\"2020-02-26T00:00:00\",\"2020-02-27T00:00:00\",\"2020-02-28T00:00:00\",\"2020-03-02T00:00:00\",\"2020-03-03T00:00:00\",\"2020-03-04T00:00:00\",\"2020-03-05T00:00:00\",\"2020-03-06T00:00:00\",\"2020-03-09T00:00:00\",\"2020-03-10T00:00:00\",\"2020-03-11T00:00:00\",\"2020-03-12T00:00:00\",\"2020-03-13T00:00:00\",\"2020-03-16T00:00:00\",\"2020-03-17T00:00:00\",\"2020-03-18T00:00:00\",\"2020-03-19T00:00:00\",\"2020-03-20T00:00:00\",\"2020-03-23T00:00:00\",\"2020-03-24T00:00:00\",\"2020-03-25T00:00:00\",\"2020-03-26T00:00:00\",\"2020-03-27T00:00:00\",\"2020-03-30T00:00:00\",\"2020-03-31T00:00:00\",\"2020-04-01T00:00:00\",\"2020-04-02T00:00:00\",\"2020-04-03T00:00:00\",\"2020-04-06T00:00:00\",\"2020-04-07T00:00:00\",\"2020-04-08T00:00:00\",\"2020-04-09T00:00:00\",\"2020-04-13T00:00:00\",\"2020-04-14T00:00:00\",\"2020-04-15T00:00:00\",\"2020-04-16T00:00:00\",\"2020-04-17T00:00:00\",\"2020-04-20T00:00:00\",\"2020-04-21T00:00:00\",\"2020-04-22T00:00:00\",\"2020-04-23T00:00:00\",\"2020-04-24T00:00:00\",\"2020-04-27T00:00:00\",\"2020-04-28T00:00:00\",\"2020-04-29T00:00:00\",\"2020-04-30T00:00:00\",\"2020-05-01T00:00:00\",\"2020-05-04T00:00:00\",\"2020-05-05T00:00:00\",\"2020-05-06T00:00:00\",\"2020-05-07T00:00:00\",\"2020-05-08T00:00:00\",\"2020-05-11T00:00:00\",\"2020-05-12T00:00:00\",\"2020-05-13T00:00:00\",\"2020-05-14T00:00:00\",\"2020-05-15T00:00:00\",\"2020-05-18T00:00:00\",\"2020-05-19T00:00:00\",\"2020-05-20T00:00:00\",\"2020-05-21T00:00:00\",\"2020-05-22T00:00:00\",\"2020-05-26T00:00:00\",\"2020-05-27T00:00:00\",\"2020-05-28T00:00:00\",\"2020-05-29T00:00:00\",\"2020-06-01T00:00:00\",\"2020-06-02T00:00:00\",\"2020-06-03T00:00:00\",\"2020-06-04T00:00:00\",\"2020-06-05T00:00:00\",\"2020-06-08T00:00:00\",\"2020-06-09T00:00:00\",\"2020-06-10T00:00:00\",\"2020-06-11T00:00:00\",\"2020-06-12T00:00:00\",\"2020-06-15T00:00:00\",\"2020-06-16T00:00:00\",\"2020-06-17T00:00:00\",\"2020-06-18T00:00:00\",\"2020-06-19T00:00:00\",\"2020-06-22T00:00:00\",\"2020-06-23T00:00:00\",\"2020-06-24T00:00:00\",\"2020-06-25T00:00:00\",\"2020-06-26T00:00:00\",\"2020-06-29T00:00:00\",\"2020-06-30T00:00:00\",\"2020-07-01T00:00:00\",\"2020-07-02T00:00:00\",\"2020-07-06T00:00:00\",\"2020-07-07T00:00:00\",\"2020-07-08T00:00:00\",\"2020-07-09T00:00:00\",\"2020-07-10T00:00:00\",\"2020-07-13T00:00:00\",\"2020-07-14T00:00:00\",\"2020-07-15T00:00:00\",\"2020-07-16T00:00:00\",\"2020-07-17T00:00:00\",\"2020-07-20T00:00:00\",\"2020-07-21T00:00:00\",\"2020-07-22T00:00:00\",\"2020-07-23T00:00:00\",\"2020-07-24T00:00:00\",\"2020-07-27T00:00:00\",\"2020-07-28T00:00:00\",\"2020-07-29T00:00:00\",\"2020-07-30T00:00:00\",\"2020-07-31T00:00:00\",\"2020-08-03T00:00:00\",\"2020-08-04T00:00:00\",\"2020-08-05T00:00:00\",\"2020-08-06T00:00:00\",\"2020-08-07T00:00:00\",\"2020-08-10T00:00:00\",\"2020-08-11T00:00:00\",\"2020-08-12T00:00:00\",\"2020-08-13T00:00:00\",\"2020-08-14T00:00:00\",\"2020-08-17T00:00:00\",\"2020-08-18T00:00:00\",\"2020-08-19T00:00:00\",\"2020-08-20T00:00:00\",\"2020-08-21T00:00:00\",\"2020-08-24T00:00:00\",\"2020-08-25T00:00:00\",\"2020-08-26T00:00:00\",\"2020-08-27T00:00:00\",\"2020-08-28T00:00:00\",\"2020-08-31T00:00:00\",\"2020-09-01T00:00:00\",\"2020-09-02T00:00:00\",\"2020-09-03T00:00:00\",\"2020-09-04T00:00:00\",\"2020-09-08T00:00:00\",\"2020-09-09T00:00:00\",\"2020-09-10T00:00:00\",\"2020-09-11T00:00:00\",\"2020-09-14T00:00:00\",\"2020-09-15T00:00:00\",\"2020-09-16T00:00:00\",\"2020-09-17T00:00:00\",\"2020-09-18T00:00:00\",\"2020-09-21T00:00:00\",\"2020-09-22T00:00:00\",\"2020-09-23T00:00:00\",\"2020-09-24T00:00:00\",\"2020-09-25T00:00:00\",\"2020-09-28T00:00:00\",\"2020-09-29T00:00:00\",\"2020-09-30T00:00:00\",\"2020-10-01T00:00:00\",\"2020-10-02T00:00:00\",\"2020-10-05T00:00:00\",\"2020-10-06T00:00:00\",\"2020-10-07T00:00:00\",\"2020-10-08T00:00:00\",\"2020-10-09T00:00:00\",\"2020-10-12T00:00:00\",\"2020-10-13T00:00:00\",\"2020-10-14T00:00:00\",\"2020-10-15T00:00:00\",\"2020-10-16T00:00:00\",\"2020-10-19T00:00:00\",\"2020-10-20T00:00:00\",\"2020-10-21T00:00:00\",\"2020-10-22T00:00:00\",\"2020-10-23T00:00:00\",\"2020-10-26T00:00:00\",\"2020-10-27T00:00:00\",\"2020-10-28T00:00:00\",\"2020-10-29T00:00:00\",\"2020-10-30T00:00:00\",\"2020-11-02T00:00:00\",\"2020-11-03T00:00:00\",\"2020-11-04T00:00:00\",\"2020-11-05T00:00:00\",\"2020-11-06T00:00:00\",\"2020-11-09T00:00:00\",\"2020-11-10T00:00:00\",\"2020-11-11T00:00:00\",\"2020-11-12T00:00:00\",\"2020-11-13T00:00:00\",\"2020-11-16T00:00:00\",\"2020-11-17T00:00:00\",\"2020-11-18T00:00:00\",\"2020-11-19T00:00:00\",\"2020-11-20T00:00:00\",\"2020-11-23T00:00:00\",\"2020-11-24T00:00:00\",\"2020-11-25T00:00:00\",\"2020-11-27T00:00:00\",\"2020-11-30T00:00:00\",\"2020-12-01T00:00:00\",\"2020-12-02T00:00:00\",\"2020-12-03T00:00:00\",\"2020-12-04T00:00:00\",\"2020-12-07T00:00:00\",\"2020-12-08T00:00:00\",\"2020-12-09T00:00:00\",\"2020-12-10T00:00:00\",\"2020-12-11T00:00:00\",\"2020-12-14T00:00:00\",\"2020-12-15T00:00:00\",\"2020-12-16T00:00:00\",\"2020-12-17T00:00:00\",\"2020-12-18T00:00:00\",\"2020-12-21T00:00:00\",\"2020-12-22T00:00:00\",\"2020-12-23T00:00:00\",\"2020-12-24T00:00:00\",\"2020-12-28T00:00:00\",\"2020-12-29T00:00:00\",\"2020-12-30T00:00:00\",\"2020-12-31T00:00:00\",\"2021-01-04T00:00:00\",\"2021-01-05T00:00:00\",\"2021-01-06T00:00:00\",\"2021-01-07T00:00:00\",\"2021-01-08T00:00:00\",\"2021-01-11T00:00:00\",\"2021-01-12T00:00:00\",\"2021-01-13T00:00:00\",\"2021-01-14T00:00:00\",\"2021-01-15T00:00:00\",\"2021-01-19T00:00:00\",\"2021-01-20T00:00:00\",\"2021-01-21T00:00:00\",\"2021-01-22T00:00:00\",\"2021-01-25T00:00:00\",\"2021-01-26T00:00:00\",\"2021-01-27T00:00:00\",\"2021-01-28T00:00:00\",\"2021-01-29T00:00:00\",\"2021-02-01T00:00:00\",\"2021-02-02T00:00:00\",\"2021-02-03T00:00:00\",\"2021-02-04T00:00:00\",\"2021-02-05T00:00:00\",\"2021-02-08T00:00:00\",\"2021-02-09T00:00:00\",\"2021-02-10T00:00:00\",\"2021-02-11T00:00:00\",\"2021-02-12T00:00:00\",\"2021-02-16T00:00:00\",\"2021-02-17T00:00:00\",\"2021-02-18T00:00:00\",\"2021-02-19T00:00:00\",\"2021-02-22T00:00:00\",\"2021-02-23T00:00:00\",\"2021-02-24T00:00:00\",\"2021-02-25T00:00:00\",\"2021-02-26T00:00:00\",\"2021-03-01T00:00:00\",\"2021-03-02T00:00:00\",\"2021-03-03T00:00:00\",\"2021-03-04T00:00:00\",\"2021-03-05T00:00:00\",\"2021-03-08T00:00:00\",\"2021-03-09T00:00:00\",\"2021-03-10T00:00:00\",\"2021-03-11T00:00:00\",\"2021-03-12T00:00:00\",\"2021-03-15T00:00:00\",\"2021-03-16T00:00:00\",\"2021-03-17T00:00:00\",\"2021-03-18T00:00:00\",\"2021-03-19T00:00:00\",\"2021-03-22T00:00:00\",\"2021-03-23T00:00:00\",\"2021-03-24T00:00:00\",\"2021-03-25T00:00:00\",\"2021-03-26T00:00:00\",\"2021-03-29T00:00:00\",\"2021-03-30T00:00:00\",\"2021-03-31T00:00:00\",\"2021-04-01T00:00:00\",\"2021-04-05T00:00:00\",\"2021-04-06T00:00:00\",\"2021-04-07T00:00:00\",\"2021-04-08T00:00:00\",\"2021-04-09T00:00:00\",\"2021-04-12T00:00:00\",\"2021-04-13T00:00:00\",\"2021-04-14T00:00:00\",\"2021-04-15T00:00:00\",\"2021-04-16T00:00:00\",\"2021-04-19T00:00:00\",\"2021-04-20T00:00:00\",\"2021-04-21T00:00:00\",\"2021-04-22T00:00:00\",\"2021-04-23T00:00:00\",\"2021-04-26T00:00:00\",\"2021-04-27T00:00:00\",\"2021-04-28T00:00:00\",\"2021-04-29T00:00:00\",\"2021-04-30T00:00:00\",\"2021-05-03T00:00:00\",\"2021-05-04T00:00:00\",\"2021-05-05T00:00:00\",\"2021-05-06T00:00:00\",\"2021-05-07T00:00:00\",\"2021-05-10T00:00:00\",\"2021-05-11T00:00:00\",\"2021-05-12T00:00:00\",\"2021-05-13T00:00:00\",\"2021-05-14T00:00:00\",\"2021-05-17T00:00:00\",\"2021-05-18T00:00:00\",\"2021-05-19T00:00:00\",\"2021-05-20T00:00:00\",\"2021-05-21T00:00:00\",\"2021-05-24T00:00:00\",\"2021-05-25T00:00:00\",\"2021-05-26T00:00:00\",\"2021-05-27T00:00:00\",\"2021-05-28T00:00:00\",\"2021-06-01T00:00:00\",\"2021-06-02T00:00:00\",\"2021-06-03T00:00:00\",\"2021-06-04T00:00:00\",\"2021-06-07T00:00:00\",\"2021-06-08T00:00:00\",\"2021-06-09T00:00:00\",\"2021-06-10T00:00:00\",\"2021-06-11T00:00:00\",\"2021-06-14T00:00:00\",\"2021-06-15T00:00:00\",\"2021-06-16T00:00:00\",\"2021-06-17T00:00:00\",\"2021-06-18T00:00:00\",\"2021-06-21T00:00:00\",\"2021-06-22T00:00:00\",\"2021-06-23T00:00:00\",\"2021-06-24T00:00:00\",\"2021-06-25T00:00:00\",\"2021-06-28T00:00:00\",\"2021-06-29T00:00:00\",\"2021-06-30T00:00:00\",\"2021-07-01T00:00:00\",\"2021-07-02T00:00:00\",\"2021-07-06T00:00:00\",\"2021-07-07T00:00:00\",\"2021-07-08T00:00:00\",\"2021-07-09T00:00:00\",\"2021-07-12T00:00:00\",\"2021-07-13T00:00:00\",\"2021-07-14T00:00:00\",\"2021-07-15T00:00:00\",\"2021-07-16T00:00:00\",\"2021-07-19T00:00:00\",\"2021-07-20T00:00:00\",\"2021-07-21T00:00:00\",\"2021-07-22T00:00:00\",\"2021-07-23T00:00:00\",\"2021-07-26T00:00:00\",\"2021-07-27T00:00:00\",\"2021-07-28T00:00:00\",\"2021-07-29T00:00:00\",\"2021-07-30T00:00:00\",\"2021-08-02T00:00:00\",\"2021-08-03T00:00:00\",\"2021-08-04T00:00:00\",\"2021-08-05T00:00:00\",\"2021-08-06T00:00:00\",\"2021-08-09T00:00:00\",\"2021-08-10T00:00:00\",\"2021-08-11T00:00:00\",\"2021-08-12T00:00:00\",\"2021-08-13T00:00:00\",\"2021-08-16T00:00:00\",\"2021-08-17T00:00:00\",\"2021-08-18T00:00:00\",\"2021-08-19T00:00:00\",\"2021-08-20T00:00:00\",\"2021-08-23T00:00:00\",\"2021-08-24T00:00:00\",\"2021-08-25T00:00:00\",\"2021-08-26T00:00:00\",\"2021-08-27T00:00:00\",\"2021-08-30T00:00:00\",\"2021-08-31T00:00:00\",\"2021-09-01T00:00:00\",\"2021-09-02T00:00:00\",\"2021-09-03T00:00:00\",\"2021-09-07T00:00:00\",\"2021-09-08T00:00:00\",\"2021-09-09T00:00:00\",\"2021-09-10T00:00:00\",\"2021-09-13T00:00:00\",\"2021-09-14T00:00:00\",\"2021-09-15T00:00:00\",\"2021-09-16T00:00:00\",\"2021-09-17T00:00:00\",\"2021-09-20T00:00:00\",\"2021-09-21T00:00:00\",\"2021-09-22T00:00:00\",\"2021-09-23T00:00:00\",\"2021-09-24T00:00:00\",\"2021-09-27T00:00:00\",\"2021-09-28T00:00:00\",\"2021-09-29T00:00:00\",\"2021-09-30T00:00:00\",\"2021-10-01T00:00:00\",\"2021-10-04T00:00:00\",\"2021-10-05T00:00:00\",\"2021-10-06T00:00:00\",\"2021-10-07T00:00:00\",\"2021-10-08T00:00:00\",\"2021-10-11T00:00:00\",\"2021-10-12T00:00:00\",\"2021-10-13T00:00:00\",\"2021-10-14T00:00:00\",\"2021-10-15T00:00:00\",\"2021-10-18T00:00:00\",\"2021-10-19T00:00:00\",\"2021-10-20T00:00:00\",\"2021-10-21T00:00:00\",\"2021-10-22T00:00:00\",\"2021-10-25T00:00:00\",\"2021-10-26T00:00:00\",\"2021-10-27T00:00:00\",\"2021-10-28T00:00:00\",\"2021-10-29T00:00:00\",\"2021-11-01T00:00:00\",\"2021-11-02T00:00:00\",\"2021-11-03T00:00:00\",\"2021-11-04T00:00:00\",\"2021-11-05T00:00:00\",\"2021-11-08T00:00:00\",\"2021-11-09T00:00:00\",\"2021-11-10T00:00:00\",\"2021-11-11T00:00:00\",\"2021-11-12T00:00:00\",\"2021-11-15T00:00:00\",\"2021-11-16T00:00:00\",\"2021-11-17T00:00:00\",\"2021-11-18T00:00:00\",\"2021-11-19T00:00:00\",\"2021-11-22T00:00:00\",\"2021-11-23T00:00:00\",\"2021-11-24T00:00:00\",\"2021-11-26T00:00:00\",\"2021-11-29T00:00:00\",\"2021-11-30T00:00:00\",\"2021-12-01T00:00:00\",\"2021-12-02T00:00:00\",\"2021-12-03T00:00:00\",\"2021-12-06T00:00:00\",\"2021-12-07T00:00:00\",\"2021-12-08T00:00:00\",\"2021-12-09T00:00:00\",\"2021-12-10T00:00:00\",\"2021-12-13T00:00:00\",\"2021-12-14T00:00:00\",\"2021-12-15T00:00:00\",\"2021-12-16T00:00:00\",\"2021-12-17T00:00:00\",\"2021-12-20T00:00:00\",\"2021-12-21T00:00:00\",\"2021-12-22T00:00:00\",\"2021-12-23T00:00:00\",\"2021-12-27T00:00:00\",\"2021-12-28T00:00:00\",\"2021-12-29T00:00:00\",\"2021-12-30T00:00:00\",\"2021-12-31T00:00:00\",\"2022-01-03T00:00:00\",\"2022-01-04T00:00:00\",\"2022-01-05T00:00:00\",\"2022-01-06T00:00:00\",\"2022-01-07T00:00:00\",\"2022-01-10T00:00:00\",\"2022-01-11T00:00:00\",\"2022-01-12T00:00:00\",\"2022-01-13T00:00:00\",\"2022-01-14T00:00:00\",\"2022-01-18T00:00:00\",\"2022-01-19T00:00:00\",\"2022-01-20T00:00:00\",\"2022-01-21T00:00:00\",\"2022-01-24T00:00:00\",\"2022-01-25T00:00:00\",\"2022-01-26T00:00:00\",\"2022-01-27T00:00:00\"],\"y\":[28868.80078125,28634.880859375,28703.380859375,28583.6796875,28745.08984375,28956.900390625,28823.76953125,28907.05078125,28939.669921875,29030.220703125,29297.640625,29348.099609375,29196.0390625,29186.26953125,29160.08984375,28989.73046875,28535.80078125,28722.849609375,28734.44921875,28859.439453125,28256.029296875,28399.810546875,28807.630859375,29290.849609375,29379.76953125,29102.509765625,29276.8203125,29276.33984375,29551.419921875,29423.310546875,29398.080078125,29232.189453125,29348.029296875,29219.98046875,28992.41015625,27960.80078125,27081.359375,26957.58984375,25766.640625,25409.359375,26703.3203125,25917.41015625,27090.859375,26121.279296875,25864.779296875,23851.01953125,25018.16015625,23553.220703125,21200.619140625,23185.619140625,20188.51953125,21237.380859375,19898.919921875,20087.189453125,19173.98046875,18591.9296875,20704.91015625,21200.55078125,22552.169921875,21636.779296875,22327.48046875,21917.16015625,20943.509765625,21413.439453125,21052.529296875,22679.990234375,22653.859375,23433.5703125,23719.369140625,23390.76953125,23949.759765625,23504.349609375,23537.6796875,24242.490234375,23650.439453125,23018.880859375,23475.8203125,23515.259765625,23775.26953125,24133.779296875,24101.55078125,24633.859375,24345.720703125,23723.689453125,23749.759765625,23883.08984375,23664.640625,23875.890625,24331.3203125,24221.990234375,23764.779296875,23247.970703125,23625.33984375,23685.419921875,24597.369140625,24206.859375,24575.900390625,24474.119140625,24465.16015625,24995.109375,25548.26953125,25400.640625,25383.109375,25475.01953125,25742.650390625,26269.890625,26281.8203125,27110.98046875,27572.439453125,27272.30078125,26989.990234375,25128.169921875,25605.5390625,25763.16015625,26289.98046875,26119.609375,26080.099609375,25871.4609375,26024.9609375,26156.099609375,25445.939453125,25745.599609375,25015.55078125,25595.80078125,25812.880859375,25734.970703125,25827.359375,26287.029296875,25890.1796875,26067.279296875,25706.08984375,26075.30078125,26085.80078125,26642.58984375,26870.099609375,26734.7109375,26671.94921875,26680.869140625,26840.400390625,27005.83984375,26652.330078125,26469.890625,26584.76953125,26379.279296875,26539.5703125,26313.650390625,26428.3203125,26664.400390625,26828.470703125,27201.51953125,27386.98046875,27433.48046875,27791.439453125,27686.91015625,27976.83984375,27896.720703125,27931.01953125,27844.91015625,27778.0703125,27692.880859375,27739.73046875,27930.330078125,28308.4609375,28248.439453125,28331.919921875,28492.26953125,28653.869140625,28430.05078125,28645.66015625,29100.5,28292.73046875,28133.310546875,27500.890625,27940.470703125,27534.580078125,27665.640625,27993.330078125,27995.599609375,28032.380859375,27901.98046875,27657.419921875,27147.69921875,27288.1796875,26763.130859375,26815.439453125,27173.9609375,27584.060546875,27452.66015625,27781.69921875,27816.900390625,27682.810546875,28148.640625,27772.759765625,28303.4609375,28425.509765625,28586.900390625,28837.51953125,28679.810546875,28514.0,28494.19921875,28606.310546875,28195.419921875,28308.7890625,28210.8203125,28363.66015625,28335.5703125,27685.380859375,27463.189453125,26519.94921875,26659.109375,26501.599609375,26925.05078125,27480.029296875,27847.66015625,28390.1796875,28323.400390625,29157.970703125,29420.919921875,29397.630859375,29080.169921875,29479.810546875,29950.439453125,29783.349609375,29438.419921875,29483.23046875,29263.48046875,29591.26953125,30046.240234375,29872.470703125,29910.369140625,29638.640625,29823.919921875,29883.7890625,29969.51953125,30218.259765625,30069.7890625,30173.880859375,30068.810546875,29999.259765625,30046.369140625,29861.55078125,30199.310546875,30154.5390625,30303.369140625,30179.05078125,30216.44921875,30015.509765625,30129.830078125,30199.869140625,30403.970703125,30335.669921875,30409.560546875,30606.48046875,30223.890625,30391.599609375,30829.400390625,31041.130859375,31097.970703125,31008.689453125,31068.689453125,31060.470703125,30991.51953125,30814.259765625,30930.51953125,31188.380859375,31176.009765625,30996.98046875,30960.0,30937.0390625,30303.169921875,30603.359375,29982.619140625,30211.91015625,30687.48046875,30723.599609375,31055.859375,31148.240234375,31385.759765625,31375.830078125,31437.80078125,31430.69921875,31458.400390625,31522.75,31613.01953125,31493.33984375,31494.3203125,31521.689453125,31537.349609375,31961.859375,31402.009765625,30932.369140625,31535.509765625,31391.51953125,31270.08984375,30924.140625,31496.30078125,31802.439453125,31832.740234375,32297.01953125,32485.58984375,32778.640625,32953.4609375,32825.94921875,33015.37109375,32862.30078125,32627.970703125,32731.19921875,32423.150390625,32420.060546875,32619.48046875,33072.87890625,33171.37109375,33066.9609375,32981.55078125,33153.2109375,33527.19140625,33430.23828125,33446.26171875,33503.5703125,33800.6015625,33745.3984375,33677.26953125,33730.890625,34035.98828125,34200.671875,34077.62890625,33821.30078125,34137.30859375,33815.8984375,34043.48828125,33981.5703125,33984.9296875,33820.37890625,34060.359375,33874.8515625,34113.23046875,34133.03125,34230.33984375,34548.53125,34777.76171875,34742.8203125,34269.16015625,33587.66015625,34021.44921875,34382.12890625,34327.7890625,34060.66015625,33896.0390625,34084.1484375,34207.83984375,34393.98046875,34312.4609375,34323.05078125,34464.640625,34529.44921875,34575.30859375,34600.37890625,34577.0390625,34756.390625,34630.23828125,34599.8203125,34447.140625,34466.23828125,34479.6015625,34393.75,34299.328125,34033.671875,33823.44921875,33290.078125,33876.96875,33945.578125,33874.23828125,34196.8203125,34433.83984375,34283.26953125,34292.2890625,34502.51171875,34633.53125,34786.3515625,34577.37109375,34681.7890625,34421.9296875,34870.16015625,34996.1796875,34888.7890625,34933.23046875,34987.01953125,34687.8515625,33962.0390625,34511.98828125,34798.0,34823.3515625,35061.55078125,35144.30859375,35058.51953125,34930.9296875,35084.53125,34935.46875,34838.16015625,35116.3984375,34792.671875,35064.25,35208.51171875,35101.8515625,35264.671875,35484.96875,35499.8515625,35515.37890625,35625.3984375,35343.28125,34960.69140625,34894.12109375,35120.078125,35335.7109375,35366.26171875,35405.5,35213.12109375,35455.80078125,35399.83984375,35360.73046875,35312.53125,35443.8203125,35369.08984375,35100.0,35031.0703125,34879.37890625,34607.71875,34869.62890625,34577.5703125,34814.390625,34751.3203125,34584.87890625,33970.46875,33919.83984375,34258.3203125,34764.8203125,34798.0,34869.37109375,34299.98828125,34390.71875,33843.921875,34326.4609375,34002.921875,34314.671875,34416.98828125,34754.94140625,34746.25,34496.05859375,34378.33984375,34377.80859375,34912.55859375,35294.76171875,35258.609375,35457.30859375,35609.33984375,35603.078125,35677.01953125,35741.1484375,35756.87890625,35490.69140625,35730.48046875,35819.55859375,35913.83984375,36052.62890625,36157.578125,36124.23046875,36327.94921875,36432.21875,36319.98046875,36079.94140625,35921.23046875,36100.30859375,36087.44921875,36142.21875,35931.05078125,35870.94921875,35601.98046875,35619.25,35813.80078125,35804.37890625,34899.33984375,35135.94140625,34483.71875,34022.0390625,34639.7890625,34580.078125,35227.03125,35719.4296875,35754.75,35754.69140625,35970.98828125,35650.94921875,35544.1796875,35927.4296875,35897.640625,35365.44140625,34932.16015625,35492.69921875,35753.890625,35950.55859375,36302.37890625,36398.2109375,36488.62890625,36398.078125,36338.30078125,36585.05859375,36799.6484375,36407.109375,36236.46875,36231.66015625,36068.87109375,36252.01953125,36290.3203125,36113.62109375,35911.80859375,35368.46875,35028.6484375,34715.390625,34265.37109375,34364.5,34297.73046875,34168.08984375,34160.78125],\"type\":\"scatter\"},{\"mode\":\"lines\",\"name\":\"Predicted\",\"x\":[\"2022-01-28T00:00:00\",\"2022-01-31T00:00:00\",\"2022-02-01T00:00:00\",\"2022-02-02T00:00:00\",\"2022-02-03T00:00:00\",\"2022-02-04T00:00:00\",\"2022-02-07T00:00:00\",\"2022-02-08T00:00:00\",\"2022-02-09T00:00:00\",\"2022-02-10T00:00:00\",\"2022-02-11T00:00:00\",\"2022-02-14T00:00:00\",\"2022-02-15T00:00:00\",\"2022-02-16T00:00:00\",\"2022-02-17T00:00:00\",\"2022-02-18T00:00:00\",\"2022-02-22T00:00:00\",\"2022-02-23T00:00:00\",\"2022-02-24T00:00:00\",\"2022-02-25T00:00:00\",\"2022-02-28T00:00:00\",\"2022-03-01T00:00:00\",\"2022-03-02T00:00:00\",\"2022-03-03T00:00:00\",\"2022-03-04T00:00:00\",\"2022-03-07T00:00:00\",\"2022-03-08T00:00:00\",\"2022-03-09T00:00:00\",\"2022-03-10T00:00:00\",\"2022-03-11T00:00:00\",\"2022-03-14T00:00:00\",\"2022-03-15T00:00:00\",\"2022-03-16T00:00:00\",\"2022-03-17T00:00:00\",\"2022-03-18T00:00:00\",\"2022-03-21T00:00:00\",\"2022-03-22T00:00:00\",\"2022-03-23T00:00:00\",\"2022-03-24T00:00:00\",\"2022-03-25T00:00:00\",\"2022-03-28T00:00:00\",\"2022-03-29T00:00:00\",\"2022-03-30T00:00:00\",\"2022-03-31T00:00:00\",\"2022-04-01T00:00:00\",\"2022-04-04T00:00:00\",\"2022-04-05T00:00:00\",\"2022-04-06T00:00:00\",\"2022-04-07T00:00:00\",\"2022-04-08T00:00:00\",\"2022-04-11T00:00:00\",\"2022-04-12T00:00:00\",\"2022-04-13T00:00:00\",\"2022-04-14T00:00:00\",\"2022-04-18T00:00:00\",\"2022-04-19T00:00:00\",\"2022-04-20T00:00:00\",\"2022-04-21T00:00:00\",\"2022-04-22T00:00:00\",\"2022-04-25T00:00:00\",\"2022-04-26T00:00:00\",\"2022-04-27T00:00:00\",\"2022-04-28T00:00:00\",\"2022-04-29T00:00:00\",\"2022-05-02T00:00:00\",\"2022-05-03T00:00:00\",\"2022-05-04T00:00:00\",\"2022-05-05T00:00:00\",\"2022-05-06T00:00:00\",\"2022-05-09T00:00:00\",\"2022-05-10T00:00:00\",\"2022-05-11T00:00:00\",\"2022-05-12T00:00:00\",\"2022-05-13T00:00:00\",\"2022-05-16T00:00:00\",\"2022-05-17T00:00:00\",\"2022-05-18T00:00:00\",\"2022-05-19T00:00:00\",\"2022-05-20T00:00:00\",\"2022-05-23T00:00:00\",\"2022-05-24T00:00:00\",\"2022-05-25T00:00:00\",\"2022-05-26T00:00:00\",\"2022-05-27T00:00:00\",\"2022-05-31T00:00:00\",\"2022-06-01T00:00:00\",\"2022-06-02T00:00:00\",\"2022-06-03T00:00:00\",\"2022-06-06T00:00:00\",\"2022-06-07T00:00:00\",\"2022-06-08T00:00:00\",\"2022-06-09T00:00:00\",\"2022-06-10T00:00:00\",\"2022-06-13T00:00:00\",\"2022-06-14T00:00:00\",\"2022-06-15T00:00:00\",\"2022-06-16T00:00:00\",\"2022-06-17T00:00:00\",\"2022-06-21T00:00:00\",\"2022-06-22T00:00:00\",\"2022-06-23T00:00:00\",\"2022-06-24T00:00:00\",\"2022-06-27T00:00:00\",\"2022-06-28T00:00:00\",\"2022-06-29T00:00:00\",\"2022-06-30T00:00:00\",\"2022-07-01T00:00:00\",\"2022-07-05T00:00:00\",\"2022-07-06T00:00:00\",\"2022-07-07T00:00:00\",\"2022-07-08T00:00:00\",\"2022-07-11T00:00:00\",\"2022-07-12T00:00:00\",\"2022-07-13T00:00:00\",\"2022-07-14T00:00:00\",\"2022-07-15T00:00:00\",\"2022-07-18T00:00:00\",\"2022-07-19T00:00:00\",\"2022-07-20T00:00:00\",\"2022-07-21T00:00:00\",\"2022-07-22T00:00:00\",\"2022-07-25T00:00:00\",\"2022-07-26T00:00:00\",\"2022-07-27T00:00:00\",\"2022-07-28T00:00:00\",\"2022-07-29T00:00:00\",\"2022-08-01T00:00:00\",\"2022-08-02T00:00:00\",\"2022-08-03T00:00:00\",\"2022-08-04T00:00:00\",\"2022-08-05T00:00:00\"],\"y\":[35017.71875,35198.125,35303.6640625,35301.84765625,35042.6484375,34967.90625,35003.0078125,34989.22265625,34863.76171875,34568.109375,34329.484375,34203.74609375,34164.29296875,33945.43359375,33703.7734375,33609.37890625,33427.46484375,33529.14453125,33561.19140625,33481.45703125,33311.29296875,33213.75390625,33328.23828125,33159.07421875,33857.87890625,33788.609375,33977.11328125,34344.546875,33629.47265625,34661.1171875,33979.77734375,34266.92578125,34429.25,34569.77734375,34656.71484375,34764.7734375,34796.49609375,34737.2734375,34804.27734375,34852.234375,34841.67578125,34763.03125,34713.2109375,34604.21484375,34543.05859375,34493.546875,34443.73828125,34406.38671875,34404.73828125,34435.37109375,34560.06640625,34431.16796875,34512.54296875,34292.1953125,33448.1171875,34325.99609375,33942.1328125,33788.41796875,33260.57421875,33437.28515625,33192.65625,33344.20703125,33119.265625,32901.51953125,32769.62109375,32778.85546875,32777.625,32158.3046875,32258.36328125,32038.087890625,32007.154296875,31703.5625,31735.734375,31810.39453125,32623.529296875,32601.841796875,32556.580078125,32765.4453125,32178.623046875,32462.427734375,32569.9375,32710.90625,32839.6171875,32923.0,32850.9921875,32728.33203125,31470.912109375,31030.423828125,30834.78515625,31340.13671875,30934.3203125,30932.474609375,31232.97265625,31026.619140625,30368.1796875,30549.076171875,30547.921875,30716.904296875,30772.09765625,30879.9296875,30958.759765625,31064.74609375,31014.228515625,30970.111328125,31027.873046875,31011.1796875,31078.583984375,30920.462890625,31784.43359375,30977.01171875,31848.044921875,31066.78515625,31230.298828125,31261.986328125,31584.328125,32326.083984375,32442.7265625,31865.3671875,32006.80078125,32200.931640625,32193.46484375],\"type\":\"scatter\"},{\"mode\":\"lines\",\"name\":\"Actuals\",\"x\":[\"2022-01-28T00:00:00\",\"2022-01-31T00:00:00\",\"2022-02-01T00:00:00\",\"2022-02-02T00:00:00\",\"2022-02-03T00:00:00\",\"2022-02-04T00:00:00\",\"2022-02-07T00:00:00\",\"2022-02-08T00:00:00\",\"2022-02-09T00:00:00\",\"2022-02-10T00:00:00\",\"2022-02-11T00:00:00\",\"2022-02-14T00:00:00\",\"2022-02-15T00:00:00\",\"2022-02-16T00:00:00\",\"2022-02-17T00:00:00\",\"2022-02-18T00:00:00\",\"2022-02-22T00:00:00\",\"2022-02-23T00:00:00\",\"2022-02-24T00:00:00\",\"2022-02-25T00:00:00\",\"2022-02-28T00:00:00\",\"2022-03-01T00:00:00\",\"2022-03-02T00:00:00\",\"2022-03-03T00:00:00\",\"2022-03-04T00:00:00\",\"2022-03-07T00:00:00\",\"2022-03-08T00:00:00\",\"2022-03-09T00:00:00\",\"2022-03-10T00:00:00\",\"2022-03-11T00:00:00\",\"2022-03-14T00:00:00\",\"2022-03-15T00:00:00\",\"2022-03-16T00:00:00\",\"2022-03-17T00:00:00\",\"2022-03-18T00:00:00\",\"2022-03-21T00:00:00\",\"2022-03-22T00:00:00\",\"2022-03-23T00:00:00\",\"2022-03-24T00:00:00\",\"2022-03-25T00:00:00\",\"2022-03-28T00:00:00\",\"2022-03-29T00:00:00\",\"2022-03-30T00:00:00\",\"2022-03-31T00:00:00\",\"2022-04-01T00:00:00\",\"2022-04-04T00:00:00\",\"2022-04-05T00:00:00\",\"2022-04-06T00:00:00\",\"2022-04-07T00:00:00\",\"2022-04-08T00:00:00\",\"2022-04-11T00:00:00\",\"2022-04-12T00:00:00\",\"2022-04-13T00:00:00\",\"2022-04-14T00:00:00\",\"2022-04-18T00:00:00\",\"2022-04-19T00:00:00\",\"2022-04-20T00:00:00\",\"2022-04-21T00:00:00\",\"2022-04-22T00:00:00\",\"2022-04-25T00:00:00\",\"2022-04-26T00:00:00\",\"2022-04-27T00:00:00\",\"2022-04-28T00:00:00\",\"2022-04-29T00:00:00\",\"2022-05-02T00:00:00\",\"2022-05-03T00:00:00\",\"2022-05-04T00:00:00\",\"2022-05-05T00:00:00\",\"2022-05-06T00:00:00\",\"2022-05-09T00:00:00\",\"2022-05-10T00:00:00\",\"2022-05-11T00:00:00\",\"2022-05-12T00:00:00\",\"2022-05-13T00:00:00\",\"2022-05-16T00:00:00\",\"2022-05-17T00:00:00\",\"2022-05-18T00:00:00\",\"2022-05-19T00:00:00\",\"2022-05-20T00:00:00\",\"2022-05-23T00:00:00\",\"2022-05-24T00:00:00\",\"2022-05-25T00:00:00\",\"2022-05-26T00:00:00\",\"2022-05-27T00:00:00\",\"2022-05-31T00:00:00\",\"2022-06-01T00:00:00\",\"2022-06-02T00:00:00\",\"2022-06-03T00:00:00\",\"2022-06-06T00:00:00\",\"2022-06-07T00:00:00\",\"2022-06-08T00:00:00\",\"2022-06-09T00:00:00\",\"2022-06-10T00:00:00\",\"2022-06-13T00:00:00\",\"2022-06-14T00:00:00\",\"2022-06-15T00:00:00\",\"2022-06-16T00:00:00\",\"2022-06-17T00:00:00\",\"2022-06-21T00:00:00\",\"2022-06-22T00:00:00\",\"2022-06-23T00:00:00\",\"2022-06-24T00:00:00\",\"2022-06-27T00:00:00\",\"2022-06-28T00:00:00\",\"2022-06-29T00:00:00\",\"2022-06-30T00:00:00\",\"2022-07-01T00:00:00\",\"2022-07-05T00:00:00\",\"2022-07-06T00:00:00\",\"2022-07-07T00:00:00\",\"2022-07-08T00:00:00\",\"2022-07-11T00:00:00\",\"2022-07-12T00:00:00\",\"2022-07-13T00:00:00\",\"2022-07-14T00:00:00\",\"2022-07-15T00:00:00\",\"2022-07-18T00:00:00\",\"2022-07-19T00:00:00\",\"2022-07-20T00:00:00\",\"2022-07-21T00:00:00\",\"2022-07-22T00:00:00\",\"2022-07-25T00:00:00\",\"2022-07-26T00:00:00\",\"2022-07-27T00:00:00\",\"2022-07-28T00:00:00\",\"2022-07-29T00:00:00\",\"2022-08-01T00:00:00\",\"2022-08-02T00:00:00\",\"2022-08-03T00:00:00\",\"2022-08-04T00:00:00\",\"2022-08-05T00:00:00\"],\"y\":[34725.46875,35131.859375,35405.23828125,35629.328125,35111.16015625,35089.73828125,35091.12890625,35462.78125,35768.05859375,35241.58984375,34738.05859375,34566.171875,34988.83984375,34934.26953125,34312.03125,34079.1796875,33596.609375,33131.76171875,33223.828125,34058.75,33892.6015625,33294.94921875,33891.3515625,33794.66015625,33614.80078125,32817.37890625,32632.640625,33286.25,33174.0703125,32944.19140625,32945.23828125,33544.33984375,34063.1015625,34480.76171875,34754.9296875,34552.98828125,34807.4609375,34358.5,34707.94140625,34861.23828125,34955.890625,35294.19140625,35228.80859375,34678.3515625,34818.26953125,34921.87890625,34641.1796875,34496.51171875,34583.5703125,34721.12109375,34308.078125,34220.359375,34564.58984375,34451.23046875,34411.69140625,34911.19921875,35160.7890625,34792.76171875,33811.3984375,34049.4609375,33240.1796875,33301.9296875,33916.390625,32977.2109375,33061.5,33128.7890625,34061.05859375,32997.96875,32899.37109375,32245.69921875,32160.740234375,31834.109375,31730.30078125,32196.66015625,32223.419921875,32654.58984375,31490.0703125,31253.130859375,31261.900390625,31880.240234375,31928.619140625,32120.279296875,32637.189453125,33212.9609375,32990.12109375,32813.23046875,33248.28125,32899.69921875,32915.78125,33180.140625,32910.8984375,32272.7890625,31392.7890625,30516.740234375,30364.830078125,30668.529296875,29927.0703125,29888.779296875,30530.25,30483.130859375,30677.359375,31500.6796875,31438.259765625,30946.990234375,31029.310546875,30775.4296875,31097.259765625,30967.8203125,31037.6796875,31384.55078125,31338.150390625,31173.83984375,30981.330078125,30772.7890625,30630.169921875,31288.259765625,31072.609375,31827.05078125,31874.83984375,32036.900390625,31899.2890625,31990.0390625,31761.5390625,32197.58984375,32529.630859375,32845.12890625,32798.3984375,32396.169921875,32812.5,32726.8203125,32803.46875],\"type\":\"scatter\"}],                        {\"title\":{\"text\":\"Dow Jones index\"},\"xaxis\":{\"title\":{\"text\":\"Date\"}},\"yaxis\":{\"title\":{\"text\":\"Close\"}},\"template\":{\"data\":{\"histogram2dcontour\":[{\"type\":\"histogram2dcontour\",\"colorbar\":{\"outlinewidth\":0,\"ticks\":\"\"},\"colorscale\":[[0.0,\"#0d0887\"],[0.1111111111111111,\"#46039f\"],[0.2222222222222222,\"#7201a8\"],[0.3333333333333333,\"#9c179e\"],[0.4444444444444444,\"#bd3786\"],[0.5555555555555556,\"#d8576b\"],[0.6666666666666666,\"#ed7953\"],[0.7777777777777778,\"#fb9f3a\"],[0.8888888888888888,\"#fdca26\"],[1.0,\"#f0f921\"]]}],\"choropleth\":[{\"type\":\"choropleth\",\"colorbar\":{\"outlinewidth\":0,\"ticks\":\"\"}}],\"histogram2d\":[{\"type\":\"histogram2d\",\"colorbar\":{\"outlinewidth\":0,\"ticks\":\"\"},\"colorscale\":[[0.0,\"#0d0887\"],[0.1111111111111111,\"#46039f\"],[0.2222222222222222,\"#7201a8\"],[0.3333333333333333,\"#9c179e\"],[0.4444444444444444,\"#bd3786\"],[0.5555555555555556,\"#d8576b\"],[0.6666666666666666,\"#ed7953\"],[0.7777777777777778,\"#fb9f3a\"],[0.8888888888888888,\"#fdca26\"],[1.0,\"#f0f921\"]]}],\"heatmap\":[{\"type\":\"heatmap\",\"colorbar\":{\"outlinewidth\":0,\"ticks\":\"\"},\"colorscale\":[[0.0,\"#0d0887\"],[0.1111111111111111,\"#46039f\"],[0.2222222222222222,\"#7201a8\"],[0.3333333333333333,\"#9c179e\"],[0.4444444444444444,\"#bd3786\"],[0.5555555555555556,\"#d8576b\"],[0.6666666666666666,\"#ed7953\"],[0.7777777777777778,\"#fb9f3a\"],[0.8888888888888888,\"#fdca26\"],[1.0,\"#f0f921\"]]}],\"heatmapgl\":[{\"type\":\"heatmapgl\",\"colorbar\":{\"outlinewidth\":0,\"ticks\":\"\"},\"colorscale\":[[0.0,\"#0d0887\"],[0.1111111111111111,\"#46039f\"],[0.2222222222222222,\"#7201a8\"],[0.3333333333333333,\"#9c179e\"],[0.4444444444444444,\"#bd3786\"],[0.5555555555555556,\"#d8576b\"],[0.6666666666666666,\"#ed7953\"],[0.7777777777777778,\"#fb9f3a\"],[0.8888888888888888,\"#fdca26\"],[1.0,\"#f0f921\"]]}],\"contourcarpet\":[{\"type\":\"contourcarpet\",\"colorbar\":{\"outlinewidth\":0,\"ticks\":\"\"}}],\"contour\":[{\"type\":\"contour\",\"colorbar\":{\"outlinewidth\":0,\"ticks\":\"\"},\"colorscale\":[[0.0,\"#0d0887\"],[0.1111111111111111,\"#46039f\"],[0.2222222222222222,\"#7201a8\"],[0.3333333333333333,\"#9c179e\"],[0.4444444444444444,\"#bd3786\"],[0.5555555555555556,\"#d8576b\"],[0.6666666666666666,\"#ed7953\"],[0.7777777777777778,\"#fb9f3a\"],[0.8888888888888888,\"#fdca26\"],[1.0,\"#f0f921\"]]}],\"surface\":[{\"type\":\"surface\",\"colorbar\":{\"outlinewidth\":0,\"ticks\":\"\"},\"colorscale\":[[0.0,\"#0d0887\"],[0.1111111111111111,\"#46039f\"],[0.2222222222222222,\"#7201a8\"],[0.3333333333333333,\"#9c179e\"],[0.4444444444444444,\"#bd3786\"],[0.5555555555555556,\"#d8576b\"],[0.6666666666666666,\"#ed7953\"],[0.7777777777777778,\"#fb9f3a\"],[0.8888888888888888,\"#fdca26\"],[1.0,\"#f0f921\"]]}],\"mesh3d\":[{\"type\":\"mesh3d\",\"colorbar\":{\"outlinewidth\":0,\"ticks\":\"\"}}],\"scatter\":[{\"fillpattern\":{\"fillmode\":\"overlay\",\"size\":10,\"solidity\":0.2},\"type\":\"scatter\"}],\"parcoords\":[{\"type\":\"parcoords\",\"line\":{\"colorbar\":{\"outlinewidth\":0,\"ticks\":\"\"}}}],\"scatterpolargl\":[{\"type\":\"scatterpolargl\",\"marker\":{\"colorbar\":{\"outlinewidth\":0,\"ticks\":\"\"}}}],\"bar\":[{\"error_x\":{\"color\":\"#2a3f5f\"},\"error_y\":{\"color\":\"#2a3f5f\"},\"marker\":{\"line\":{\"color\":\"#E5ECF6\",\"width\":0.5},\"pattern\":{\"fillmode\":\"overlay\",\"size\":10,\"solidity\":0.2}},\"type\":\"bar\"}],\"scattergeo\":[{\"type\":\"scattergeo\",\"marker\":{\"colorbar\":{\"outlinewidth\":0,\"ticks\":\"\"}}}],\"scatterpolar\":[{\"type\":\"scatterpolar\",\"marker\":{\"colorbar\":{\"outlinewidth\":0,\"ticks\":\"\"}}}],\"histogram\":[{\"marker\":{\"pattern\":{\"fillmode\":\"overlay\",\"size\":10,\"solidity\":0.2}},\"type\":\"histogram\"}],\"scattergl\":[{\"type\":\"scattergl\",\"marker\":{\"colorbar\":{\"outlinewidth\":0,\"ticks\":\"\"}}}],\"scatter3d\":[{\"type\":\"scatter3d\",\"line\":{\"colorbar\":{\"outlinewidth\":0,\"ticks\":\"\"}},\"marker\":{\"colorbar\":{\"outlinewidth\":0,\"ticks\":\"\"}}}],\"scattermapbox\":[{\"type\":\"scattermapbox\",\"marker\":{\"colorbar\":{\"outlinewidth\":0,\"ticks\":\"\"}}}],\"scatterternary\":[{\"type\":\"scatterternary\",\"marker\":{\"colorbar\":{\"outlinewidth\":0,\"ticks\":\"\"}}}],\"scattercarpet\":[{\"type\":\"scattercarpet\",\"marker\":{\"colorbar\":{\"outlinewidth\":0,\"ticks\":\"\"}}}],\"carpet\":[{\"aaxis\":{\"endlinecolor\":\"#2a3f5f\",\"gridcolor\":\"white\",\"linecolor\":\"white\",\"minorgridcolor\":\"white\",\"startlinecolor\":\"#2a3f5f\"},\"baxis\":{\"endlinecolor\":\"#2a3f5f\",\"gridcolor\":\"white\",\"linecolor\":\"white\",\"minorgridcolor\":\"white\",\"startlinecolor\":\"#2a3f5f\"},\"type\":\"carpet\"}],\"table\":[{\"cells\":{\"fill\":{\"color\":\"#EBF0F8\"},\"line\":{\"color\":\"white\"}},\"header\":{\"fill\":{\"color\":\"#C8D4E3\"},\"line\":{\"color\":\"white\"}},\"type\":\"table\"}],\"barpolar\":[{\"marker\":{\"line\":{\"color\":\"#E5ECF6\",\"width\":0.5},\"pattern\":{\"fillmode\":\"overlay\",\"size\":10,\"solidity\":0.2}},\"type\":\"barpolar\"}],\"pie\":[{\"automargin\":true,\"type\":\"pie\"}]},\"layout\":{\"autotypenumbers\":\"strict\",\"colorway\":[\"#636efa\",\"#EF553B\",\"#00cc96\",\"#ab63fa\",\"#FFA15A\",\"#19d3f3\",\"#FF6692\",\"#B6E880\",\"#FF97FF\",\"#FECB52\"],\"font\":{\"color\":\"#2a3f5f\"},\"hovermode\":\"closest\",\"hoverlabel\":{\"align\":\"left\"},\"paper_bgcolor\":\"white\",\"plot_bgcolor\":\"#E5ECF6\",\"polar\":{\"bgcolor\":\"#E5ECF6\",\"angularaxis\":{\"gridcolor\":\"white\",\"linecolor\":\"white\",\"ticks\":\"\"},\"radialaxis\":{\"gridcolor\":\"white\",\"linecolor\":\"white\",\"ticks\":\"\"}},\"ternary\":{\"bgcolor\":\"#E5ECF6\",\"aaxis\":{\"gridcolor\":\"white\",\"linecolor\":\"white\",\"ticks\":\"\"},\"baxis\":{\"gridcolor\":\"white\",\"linecolor\":\"white\",\"ticks\":\"\"},\"caxis\":{\"gridcolor\":\"white\",\"linecolor\":\"white\",\"ticks\":\"\"}},\"coloraxis\":{\"colorbar\":{\"outlinewidth\":0,\"ticks\":\"\"}},\"colorscale\":{\"sequential\":[[0.0,\"#0d0887\"],[0.1111111111111111,\"#46039f\"],[0.2222222222222222,\"#7201a8\"],[0.3333333333333333,\"#9c179e\"],[0.4444444444444444,\"#bd3786\"],[0.5555555555555556,\"#d8576b\"],[0.6666666666666666,\"#ed7953\"],[0.7777777777777778,\"#fb9f3a\"],[0.8888888888888888,\"#fdca26\"],[1.0,\"#f0f921\"]],\"sequentialminus\":[[0.0,\"#0d0887\"],[0.1111111111111111,\"#46039f\"],[0.2222222222222222,\"#7201a8\"],[0.3333333333333333,\"#9c179e\"],[0.4444444444444444,\"#bd3786\"],[0.5555555555555556,\"#d8576b\"],[0.6666666666666666,\"#ed7953\"],[0.7777777777777778,\"#fb9f3a\"],[0.8888888888888888,\"#fdca26\"],[1.0,\"#f0f921\"]],\"diverging\":[[0,\"#8e0152\"],[0.1,\"#c51b7d\"],[0.2,\"#de77ae\"],[0.3,\"#f1b6da\"],[0.4,\"#fde0ef\"],[0.5,\"#f7f7f7\"],[0.6,\"#e6f5d0\"],[0.7,\"#b8e186\"],[0.8,\"#7fbc41\"],[0.9,\"#4d9221\"],[1,\"#276419\"]]},\"xaxis\":{\"gridcolor\":\"white\",\"linecolor\":\"white\",\"ticks\":\"\",\"title\":{\"standoff\":15},\"zerolinecolor\":\"white\",\"automargin\":true,\"zerolinewidth\":2},\"yaxis\":{\"gridcolor\":\"white\",\"linecolor\":\"white\",\"ticks\":\"\",\"title\":{\"standoff\":15},\"zerolinecolor\":\"white\",\"automargin\":true,\"zerolinewidth\":2},\"scene\":{\"xaxis\":{\"backgroundcolor\":\"#E5ECF6\",\"gridcolor\":\"white\",\"linecolor\":\"white\",\"showbackground\":true,\"ticks\":\"\",\"zerolinecolor\":\"white\",\"gridwidth\":2},\"yaxis\":{\"backgroundcolor\":\"#E5ECF6\",\"gridcolor\":\"white\",\"linecolor\":\"white\",\"showbackground\":true,\"ticks\":\"\",\"zerolinecolor\":\"white\",\"gridwidth\":2},\"zaxis\":{\"backgroundcolor\":\"#E5ECF6\",\"gridcolor\":\"white\",\"linecolor\":\"white\",\"showbackground\":true,\"ticks\":\"\",\"zerolinecolor\":\"white\",\"gridwidth\":2}},\"shapedefaults\":{\"line\":{\"color\":\"#2a3f5f\"}},\"annotationdefaults\":{\"arrowcolor\":\"#2a3f5f\",\"arrowhead\":0,\"arrowwidth\":1},\"geo\":{\"bgcolor\":\"white\",\"landcolor\":\"#E5ECF6\",\"subunitcolor\":\"white\",\"showland\":true,\"showlakes\":true,\"lakecolor\":\"white\"},\"title\":{\"x\":0.05},\"mapbox\":{\"style\":\"light\"}}}},                        {\"responsive\": true}                    ).then(function(){\n",
              "                            \n",
              "var gd = document.getElementById('4269014a-db3f-48a6-b493-f446238b766b');\n",
              "var x = new MutationObserver(function (mutations, observer) {{\n",
              "        var display = window.getComputedStyle(gd).display;\n",
              "        if (!display || display === 'none') {{\n",
              "            console.log([gd, 'removed!']);\n",
              "            Plotly.purge(gd);\n",
              "            observer.disconnect();\n",
              "        }}\n",
              "}});\n",
              "\n",
              "// Listen for the removal of the full notebook cells\n",
              "var notebookContainer = gd.closest('#notebook-container');\n",
              "if (notebookContainer) {{\n",
              "    x.observe(notebookContainer, {childList: true});\n",
              "}}\n",
              "\n",
              "// Listen for the clearing of the current output cell\n",
              "var outputEl = gd.closest('.output');\n",
              "if (outputEl) {{\n",
              "    x.observe(outputEl, {childList: true});\n",
              "}}\n",
              "\n",
              "                        })                };                });            </script>        </div>"
            ]
          },
          "metadata": {},
          "output_type": "display_data"
        }
      ],
      "source": [
        "prediction = model.predict_generator(test_generator)\n",
        "\n",
        "close_train = close_train.reshape((-1))\n",
        "close_test = close_test.reshape((-1))\n",
        "prediction = prediction.reshape((-1))\n",
        "\n",
        "trace1 = go.Scatter(\n",
        "    x = date_train,\n",
        "    y = close_train,\n",
        "    mode = 'lines',\n",
        "    name = 'Data'\n",
        ")\n",
        "trace2 = go.Scatter(\n",
        "    x = date_test,\n",
        "    y = prediction,\n",
        "    mode = 'lines',\n",
        "    name = 'Predicted'\n",
        ")\n",
        "trace3 = go.Scatter(\n",
        "    x = date_test,\n",
        "    y = close_test,\n",
        "    mode='lines',\n",
        "    name = 'Actuals'\n",
        ")\n",
        "layout = go.Layout(\n",
        "    title = \"Dow Jones index\",\n",
        "    xaxis = {'title' : \"Date\"},\n",
        "    yaxis = {'title' : \"Close\"}\n",
        ")\n",
        "fig = go.Figure(data=[trace1, trace2, trace3], layout=layout)\n",
        "fig.show()"
      ]
    },
    {
      "cell_type": "markdown",
      "source": [
        "From the grapf above, you can see that the LSTM model did a good job at fitting both the training and the test data."
      ],
      "metadata": {
        "id": "xsPiHxCL2XuS"
      },
      "id": "xsPiHxCL2XuS"
    },
    {
      "cell_type": "markdown",
      "id": "fda99988",
      "metadata": {
        "id": "fda99988"
      },
      "source": [
        "In general, tunning the parameters is needed. \n",
        "\n",
        "If the LTSM model is not performing well, try tuning the parameters:  LSTM units, look_back, batch size and num_epochs. Also, this is Vanilla LSTM, so one could enhance the architecture by stacking more LSTM layers."
      ]
    },
    {
      "cell_type": "markdown",
      "source": [
        "NOTE: This example show clearly the basic structure of LSTM networks for Time Series Forecasting problems."
      ],
      "metadata": {
        "id": "cksIZtuI0fT9"
      },
      "id": "cksIZtuI0fT9"
    }
  ],
  "metadata": {
    "kernelspec": {
      "display_name": "Python 3 (ipykernel)",
      "language": "python",
      "name": "python3"
    },
    "language_info": {
      "codemirror_mode": {
        "name": "ipython",
        "version": 3
      },
      "file_extension": ".py",
      "mimetype": "text/x-python",
      "name": "python",
      "nbconvert_exporter": "python",
      "pygments_lexer": "ipython3",
      "version": "3.9.7"
    },
    "colab": {
      "name": "Financial Time Series Forecasting with LSTM.ipynb",
      "provenance": [],
      "collapsed_sections": []
    }
  },
  "nbformat": 4,
  "nbformat_minor": 5
}